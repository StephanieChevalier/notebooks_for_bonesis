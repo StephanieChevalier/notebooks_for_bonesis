{
 "cells": [
  {
   "cell_type": "markdown",
   "metadata": {},
   "source": [
    "# General rules whichever the type of data you want to use as observations:\n",
    "\n",
    "## Nature of the input for BoNesis:\n",
    "\n",
    "**BoNesis considers boolean observations, an observation being a set of associations component ↔ boolean value.**\n",
    "\n",
    "Observations are specified by a Python dictionnary linking each observation identifier to a dictionary being the set of associations component ↔ boolean value for this observation:"
   ]
  },
  {
   "cell_type": "code",
   "execution_count": 1,
   "metadata": {},
   "outputs": [
    {
     "data": {
      "text/html": [
       "<div>\n",
       "<style scoped>\n",
       "    .dataframe tbody tr th:only-of-type {\n",
       "        vertical-align: middle;\n",
       "    }\n",
       "\n",
       "    .dataframe tbody tr th {\n",
       "        vertical-align: top;\n",
       "    }\n",
       "\n",
       "    .dataframe thead th {\n",
       "        text-align: right;\n",
       "    }\n",
       "</style>\n",
       "<table border=\"1\" class=\"dataframe\">\n",
       "  <thead>\n",
       "    <tr style=\"text-align: right;\">\n",
       "      <th></th>\n",
       "      <th>gene1</th>\n",
       "      <th>gene2</th>\n",
       "      <th>gene3</th>\n",
       "      <th>stimulus1</th>\n",
       "      <th>phenotype1</th>\n",
       "      <th>phenotype2</th>\n",
       "    </tr>\n",
       "  </thead>\n",
       "  <tbody>\n",
       "    <tr>\n",
       "      <th>obs1</th>\n",
       "      <td>1</td>\n",
       "      <td>0.0</td>\n",
       "      <td>0</td>\n",
       "      <td>0</td>\n",
       "      <td>0</td>\n",
       "      <td>0</td>\n",
       "    </tr>\n",
       "    <tr>\n",
       "      <th>obs2</th>\n",
       "      <td>1</td>\n",
       "      <td>0.0</td>\n",
       "      <td>1</td>\n",
       "      <td>1</td>\n",
       "      <td>0</td>\n",
       "      <td>0</td>\n",
       "    </tr>\n",
       "    <tr>\n",
       "      <th>obs3</th>\n",
       "      <td>1</td>\n",
       "      <td></td>\n",
       "      <td>1</td>\n",
       "      <td>0</td>\n",
       "      <td>1</td>\n",
       "      <td>0</td>\n",
       "    </tr>\n",
       "    <tr>\n",
       "      <th>obs4</th>\n",
       "      <td>0</td>\n",
       "      <td>1.0</td>\n",
       "      <td>1</td>\n",
       "      <td>0</td>\n",
       "      <td>0</td>\n",
       "      <td>1</td>\n",
       "    </tr>\n",
       "  </tbody>\n",
       "</table>\n",
       "</div>"
      ],
      "text/plain": [
       "      gene1 gene2  gene3  stimulus1  phenotype1  phenotype2\n",
       "obs1      1   0.0      0          0           0           0\n",
       "obs2      1   0.0      1          1           0           0\n",
       "obs3      1            1          0           1           0\n",
       "obs4      0   1.0      1          0           0           1"
      ]
     },
     "execution_count": 1,
     "metadata": {},
     "output_type": "execute_result"
    }
   ],
   "source": [
    "import pandas as pd\n",
    "\n",
    "observations = {\n",
    "    \"obs1\": {\"gene1\": 1, \"gene2\": 0, \"gene3\": 0, \"stimulus1\": 0, \"phenotype1\": 0, \"phenotype2\": 0},\n",
    "    \"obs2\": {\"gene1\": 1, \"gene2\": 0, \"gene3\": \n",
    "             1, \"stimulus1\": 1, \"phenotype1\": 0, \"phenotype2\": 0},\n",
    "    \"obs3\": {\"gene1\": 1, \"gene3\": 1, \"stimulus1\": 0, \"phenotype1\": 1, \"phenotype2\": 0},\n",
    "    \"obs4\": {\"gene1\": 0, \"gene2\": 1, \"gene3\": 1, \"stimulus1\": 0, \"phenotype1\": 0, \"phenotype2\": 1},    \n",
    "}\n",
    "pd.DataFrame.from_dict(observations, orient=\"index\").fillna('')"
   ]
  },
  {
   "cell_type": "markdown",
   "metadata": {},
   "source": [
    "You can **directly import observations saved as matrix in a file under the TSV format**:"
   ]
  },
  {
   "cell_type": "code",
   "execution_count": 2,
   "metadata": {},
   "outputs": [],
   "source": [
    "observations = pd.read_csv(\"observations.tsv\", sep=\"\\t\", index_col = [0]).to_dict(orient=\"index\")"
   ]
  },
  {
   "cell_type": "code",
   "execution_count": 3,
   "metadata": {},
   "outputs": [
    {
     "data": {
      "text/plain": [
       "{'obs1': {'gene1': 1,\n",
       "  'gene2': 0.0,\n",
       "  'gene3': 0,\n",
       "  'stimulus1': 0,\n",
       "  'phenotype1': 0,\n",
       "  'phenotype2': 0},\n",
       " 'obs2': {'gene1': 1,\n",
       "  'gene2': 0.0,\n",
       "  'gene3': 1,\n",
       "  'stimulus1': 1,\n",
       "  'phenotype1': 0,\n",
       "  'phenotype2': 0},\n",
       " 'obs3': {'gene1': 1,\n",
       "  'gene2': nan,\n",
       "  'gene3': 1,\n",
       "  'stimulus1': 0,\n",
       "  'phenotype1': 1,\n",
       "  'phenotype2': 0},\n",
       " 'obs4': {'gene1': 0,\n",
       "  'gene2': 1.0,\n",
       "  'gene3': 1,\n",
       "  'stimulus1': 0,\n",
       "  'phenotype1': 0,\n",
       "  'phenotype2': 1}}"
      ]
     },
     "execution_count": 3,
     "metadata": {},
     "output_type": "execute_result"
    }
   ],
   "source": [
    "observations"
   ]
  },
  {
   "cell_type": "markdown",
   "metadata": {},
   "source": [
    "## Data preprocessing before using BoNesis: gene name standardization\n",
    "\n",
    "For clearing up confusion in order to match data from different sources (interaction graph vs observations), we advise standardization based on [NCBI gene data](https://ncbiinsights.ncbi.nlm.nih.gov/2016/11/07/clearing-up-confusion-with-human-gene-symbols-names-using-ncbi-gene-data/), as follows:\n",
    "\n",
    "**1. Download gene information from NCBI** <a class=\"anchor\" id=\"ncbidownload\"></a>\n",
    "\n",
    "Depending on the organism you are interested in, download the corresponding gene info file there: https://ftp.ncbi.nlm.nih.gov/gene/DATA/GENE_INFO/Mammalia/.\n",
    "\n",
    "You get a TSV file (Tab Separated Values), with notably the following columns:\n",
    "\n",
    "|Column number|Description of data in the column|  \n",
    "|:---:|:---|\n",
    "|2 | GeneID: an integer used as the unique identifier for a gene in NCBI|  \n",
    "|**3** | **NCBI Symbol**: the default symbol for the gene at NCBI|  \n",
    "|**5** | **Symbol Synonyms**: bar-delimited set of unofficial symbols for the gene|  \n",
    "|**11** | **Official Symbol** for this gene designated by the nomenclature authority if it exists (HGNC for human)|   \n",
    "|9 | NCBI Named Description: the default full name for this gene at NCBI|  \n",
    "|12 | Full Name for this gene designated by the nomenclature authority if it exists (HGNC for human)|  \n",
    "|14 | Other full names & designations: pipe-delimited set of some alternate descriptions (‘-‘ indicates none is being reported)|\n",
    "\n",
    "**2. Use the following function to *standardize* the dictionary containing the observations before importing it in BoNesis:**\n",
    "`observations_standardization(*dict of observations*, *NCBI gene data TSV file*)`  \n",
    "\n",
    "*Example:*  \n",
    "`standardized_observations = observations_standardization(observations, \"Mus_musculus.gene_info\")`"
   ]
  },
  {
   "cell_type": "code",
   "execution_count": 4,
   "metadata": {},
   "outputs": [],
   "source": [
    "import gene_name_standardization as gns"
   ]
  },
  {
   "cell_type": "code",
   "execution_count": 5,
   "metadata": {},
   "outputs": [
    {
     "data": {
      "text/html": [
       "<div>\n",
       "<style scoped>\n",
       "    .dataframe tbody tr th:only-of-type {\n",
       "        vertical-align: middle;\n",
       "    }\n",
       "\n",
       "    .dataframe tbody tr th {\n",
       "        vertical-align: top;\n",
       "    }\n",
       "\n",
       "    .dataframe thead th {\n",
       "        text-align: right;\n",
       "    }\n",
       "</style>\n",
       "<table border=\"1\" class=\"dataframe\">\n",
       "  <thead>\n",
       "    <tr style=\"text-align: right;\">\n",
       "      <th></th>\n",
       "      <th>ALPG</th>\n",
       "      <th>AR</th>\n",
       "      <th>ACP3</th>\n",
       "      <th>ZNF217</th>\n",
       "      <th>AHR</th>\n",
       "      <th>UGT1A6</th>\n",
       "    </tr>\n",
       "  </thead>\n",
       "  <tbody>\n",
       "    <tr>\n",
       "      <th>obs1</th>\n",
       "      <td>1</td>\n",
       "      <td>0</td>\n",
       "      <td>0.0</td>\n",
       "      <td>0</td>\n",
       "      <td>0</td>\n",
       "      <td>0</td>\n",
       "    </tr>\n",
       "    <tr>\n",
       "      <th>obs2</th>\n",
       "      <td>1</td>\n",
       "      <td>0</td>\n",
       "      <td>1.0</td>\n",
       "      <td>1</td>\n",
       "      <td>0</td>\n",
       "      <td>0</td>\n",
       "    </tr>\n",
       "    <tr>\n",
       "      <th>obs3</th>\n",
       "      <td>1</td>\n",
       "      <td>1</td>\n",
       "      <td></td>\n",
       "      <td>0</td>\n",
       "      <td>1</td>\n",
       "      <td>0</td>\n",
       "    </tr>\n",
       "    <tr>\n",
       "      <th>obs4</th>\n",
       "      <td>0</td>\n",
       "      <td>1</td>\n",
       "      <td>1.0</td>\n",
       "      <td>0</td>\n",
       "      <td>0</td>\n",
       "      <td>1</td>\n",
       "    </tr>\n",
       "  </tbody>\n",
       "</table>\n",
       "</div>"
      ],
      "text/plain": [
       "      ALPG  AR ACP3  ZNF217  AHR  UGT1A6\n",
       "obs1     1   0  0.0       0    0       0\n",
       "obs2     1   0  1.0       1    0       0\n",
       "obs3     1   1            0    1       0\n",
       "obs4     0   1  1.0       0    0       1"
      ]
     },
     "execution_count": 5,
     "metadata": {},
     "output_type": "execute_result"
    }
   ],
   "source": [
    "# Example:\n",
    "import pandas as pd\n",
    "\n",
    "observations = {\n",
    "    \"obs1\": {\"ALPG\": 1, \"AR\": 0, \"ACP3\": 0, \"ZNF217\": 0, \"AHR\": 0, \"UGT1A6\": 0},\n",
    "    \"obs2\": {\"ALPG\": 1, \"AR\": 0, \"ACP3\": 1, \"ZNF217\": 1, \"AHR\": 0, \"UGT1A6\": 0},\n",
    "    \"obs3\": {\"ALPG\": 1, \"AR\": 1, \"ZNF217\": 0, \"AHR\": 1, \"UGT1A6\": 0},\n",
    "    \"obs4\": {\"ALPG\": 0, \"AR\": 1, \"ACP3\": 1, \"ZNF217\": 0, \"AHR\": 0, \"UGT1A6\": 1},    \n",
    "}\n",
    "pd.DataFrame.from_dict(observations, orient=\"index\").fillna('')"
   ]
  },
  {
   "cell_type": "code",
   "execution_count": 6,
   "metadata": {},
   "outputs": [
    {
     "data": {
      "text/html": [
       "<div>\n",
       "<style scoped>\n",
       "    .dataframe tbody tr th:only-of-type {\n",
       "        vertical-align: middle;\n",
       "    }\n",
       "\n",
       "    .dataframe tbody tr th {\n",
       "        vertical-align: top;\n",
       "    }\n",
       "\n",
       "    .dataframe thead th {\n",
       "        text-align: right;\n",
       "    }\n",
       "</style>\n",
       "<table border=\"1\" class=\"dataframe\">\n",
       "  <thead>\n",
       "    <tr style=\"text-align: right;\">\n",
       "      <th></th>\n",
       "      <th>ALPPL2</th>\n",
       "      <th>AR</th>\n",
       "      <th>ACPP</th>\n",
       "      <th>ZFP217</th>\n",
       "      <th>AHR</th>\n",
       "      <th>UGT1A6A</th>\n",
       "    </tr>\n",
       "  </thead>\n",
       "  <tbody>\n",
       "    <tr>\n",
       "      <th>obs1</th>\n",
       "      <td>1</td>\n",
       "      <td>0</td>\n",
       "      <td>0.0</td>\n",
       "      <td>0</td>\n",
       "      <td>0</td>\n",
       "      <td>0</td>\n",
       "    </tr>\n",
       "    <tr>\n",
       "      <th>obs2</th>\n",
       "      <td>1</td>\n",
       "      <td>0</td>\n",
       "      <td>1.0</td>\n",
       "      <td>1</td>\n",
       "      <td>0</td>\n",
       "      <td>0</td>\n",
       "    </tr>\n",
       "    <tr>\n",
       "      <th>obs3</th>\n",
       "      <td>1</td>\n",
       "      <td>1</td>\n",
       "      <td></td>\n",
       "      <td>0</td>\n",
       "      <td>1</td>\n",
       "      <td>0</td>\n",
       "    </tr>\n",
       "    <tr>\n",
       "      <th>obs4</th>\n",
       "      <td>0</td>\n",
       "      <td>1</td>\n",
       "      <td>1.0</td>\n",
       "      <td>0</td>\n",
       "      <td>0</td>\n",
       "      <td>1</td>\n",
       "    </tr>\n",
       "  </tbody>\n",
       "</table>\n",
       "</div>"
      ],
      "text/plain": [
       "      ALPPL2  AR ACPP  ZFP217  AHR  UGT1A6A\n",
       "obs1       1   0  0.0       0    0        0\n",
       "obs2       1   0  1.0       1    0        0\n",
       "obs3       1   1            0    1        0\n",
       "obs4       0   1  1.0       0    0        1"
      ]
     },
     "execution_count": 6,
     "metadata": {},
     "output_type": "execute_result"
    }
   ],
   "source": [
    "# Continuation of the example:\n",
    "\n",
    "standardized_observations = gns.observations_standardization(observations, \"Mus_musculus.gene_info\")\n",
    "\n",
    "pd.DataFrame.from_dict(standardized_observations, orient=\"index\").fillna('')"
   ]
  }
 ],
 "metadata": {
  "kernelspec": {
   "display_name": "Python 3",
   "language": "python",
   "name": "python3"
  },
  "language_info": {
   "codemirror_mode": {
    "name": "ipython",
    "version": 3
   },
   "file_extension": ".py",
   "mimetype": "text/x-python",
   "name": "python",
   "nbconvert_exporter": "python",
   "pygments_lexer": "ipython3",
   "version": "3.8.10"
  }
 },
 "nbformat": 4,
 "nbformat_minor": 4
}
