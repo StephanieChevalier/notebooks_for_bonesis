{
 "cells": [
  {
   "cell_type": "markdown",
   "metadata": {},
   "source": [
    "# General rules whichever the source of the interaction graph you want to use:\n",
    "\n",
    "------------\n",
    "## Summary\n",
    "* [**Nature of the interaction graph**](#h1)\n",
    "    + [Pairwise interaction list (as a dictionary)](#h11)\n",
    "    + [SIF file](#h12)\n",
    "        + [Automatic download from the DoRothEA database](#dorotheatuto)\n",
    "* [**Gene name standardization**](#h2)\n",
    "    1. [Download gene info from NCBI](#ncbidownload)\n",
    "    2. [Standardize your interaction graph](#igstandardization)\n",
    "    \n",
    "## Required modules\n",
    "* [dorothea.py](dorothea.py)\n",
    "* [gene_name_standardization.py](gene_name_standardization.py)\n",
    "------------"
   ]
  },
  {
   "cell_type": "markdown",
   "metadata": {},
   "source": [
    "## Nature of the interaction graph (IG) that BoNesis can consider <a class=\"anchor\" id=\"h1\"></a>\n",
    "\n",
    "### - IG saved as a list of pairwise interactions in python: <a class=\"anchor\" id=\"h11\"></a>"
   ]
  },
  {
   "cell_type": "code",
   "execution_count": 1,
   "metadata": {},
   "outputs": [],
   "source": [
    "interaction_graph = [\n",
    "(\"gene1\",\"gene2\",dict(sign=-1)),\n",
    "(\"gene2\",\"gene1\",dict(sign=-1)),\n",
    "(\"gene1\",\"gene3\",dict(sign=-1)),\n",
    "(\"gene2\",\"gene3\",dict(sign=1)),\n",
    "]"
   ]
  },
  {
   "cell_type": "markdown",
   "metadata": {},
   "source": [
    "Example : `domain = bonesis.InfluenceGraph(interaction_graph)`"
   ]
  },
  {
   "cell_type": "markdown",
   "metadata": {},
   "source": [
    "### - IG saved as a file under the [SIF format (Simple Interaction File)](http://manual.cytoscape.org/en/stable/Supported_Network_File_Formats.html#sif-format) <a class=\"anchor\" id=\"h12\"></a>\n",
    "\n",
    "Example: `domain = bonesis.InfluenceGraph.from_sif(<path_SIF_file>)`\n",
    "\n",
    "#### Such a file can be directly extracted from the database DoRothEA (given a confidence level on the edges), via its R package as follows:\n",
    "1. **[R](https://www.r-project.org/) needs to be installed on the machine, in order to access DoRothEA via its R package [`dorothea`](http://bioconductor.org/packages/release/data/experiment/html/dorothea.html)** that you can directly install from python with the following code:\n"
   ]
  },
  {
   "cell_type": "code",
   "execution_count": null,
   "metadata": {},
   "outputs": [],
   "source": [
    "import rpy2.robjects as robjects\n",
    "robjects.r('''\n",
    "    if (!requireNamespace(\"BiocManager\", quietly = TRUE))\n",
    "        install.packages(\"BiocManager\")\n",
    "    BiocManager::install(\"dorothea\")\n",
    "''')"
   ]
  },
  {
   "cell_type": "markdown",
   "metadata": {},
   "source": [
    "2. **Extract the interaction graph from DoRothEA using the function:** <a class=\"anchor\" id=\"dorotheatuto\"></a>  \n",
    "`dorothea_extraction(<organism>, <confidence level of the edges>, <path to the output directory>)`  \n",
    "Example: `dorothea_extraction(organism=\"mouse\", confidence=\"ABC\")`\n",
    "\n",
    " * *INPUT*\n",
    "     + **organism**: string that can be human or mouse.\n",
    "     + **confidence**: string that can be A, AB (default), ABC, ABCD, ABCDE.\n",
    "     + **output directory**: the current one by default.\n",
    " * *OUTPUT* \n",
    "     + **SIF file** (in the directory given in argument) named under the format \"dorothea_*confidence*\\_*organism*_YYYYMMDD.sif\"\n",
    "         * with *confidence* the confidence levels given in argument\n",
    "         * with *organism* the organism given in argument (human or mouse)"
   ]
  },
  {
   "cell_type": "code",
   "execution_count": 2,
   "metadata": {},
   "outputs": [],
   "source": [
    "import dorothea"
   ]
  },
  {
   "cell_type": "code",
   "execution_count": null,
   "metadata": {},
   "outputs": [],
   "source": [
    "help(dorothea)"
   ]
  },
  {
   "cell_type": "code",
   "execution_count": null,
   "metadata": {},
   "outputs": [],
   "source": [
    "# Example :\n",
    "dorothea.extraction(organism=\"mouse\", confidence=\"ABC\", directory_output=\"./data/\")"
   ]
  },
  {
   "cell_type": "markdown",
   "metadata": {},
   "source": [
    "## Data preprocessing before using BoNesis: gene name standardization <a class=\"anchor\" id=\"h2\"></a>\n",
    "For clearing up confusion in order to match data from different sources (interaction graph vs observations), we advise standardization based on NCBI gene data, as follows:\n",
    "\n",
    "**1. Download gene information from NCBI** <a class=\"anchor\" id=\"ncbidownload\"></a>\n",
    "\n",
    "Depending on the organism you are interested in, download the corresponding gene info file there: https://ftp.ncbi.nlm.nih.gov/gene/DATA/GENE_INFO/Mammalia/.\n",
    "\n",
    "You get a TSV file (Tab Separated Values), with notably the following columns:\n",
    "\n",
    "|Column number|Description of data in the column|\n",
    "|:---:|:---|\n",
    "|2 | GeneID: an integer used as the unique identifier for a gene in NCBI|\n",
    "|**3** | **NCBI Symbol**: the default symbol for the gene at NCBI|\n",
    "|**5** | **Symbol Synonyms**: bar-delimited set of unofficial symbols for the gene|\n",
    "|**11** | **Official Symbol** for this gene designated by the nomenclature authority if it exists (HGNC for human)| \n",
    "|9 | NCBI Named Description: the default full name for this gene at NCBI|\n",
    "|12 | Full Name for this gene designated by the nomenclature authority if it exists (HGNC for human)|\n",
    "|14 | Other full names & designations: pipe-delimited set of some alternate descriptions (‘-‘ indicates none is being reported)|\n",
    "\n",
    "**2. Standardize your interaction graph:** <a class=\"anchor\" id=\"igstandardization\"></a>\n",
    "\n",
    "Require the module [gene_name_standardization](gene_name_standardization.py).\n",
    "\n",
    "+ If your interaction graph is **a list of pairwise interactions in python**, use the following function to *standardize* this list before importing it in BoNesis:\n",
    "`interaction_list_standardization(<list of pairwise interactions>, <NCBI gene data TSV file>)`  \n",
    "|  \n",
    "*Example:*  \n",
    "`standardized_interaction_graph = interaction_list_standardization(interaction_graph, \"Mus_musculus.gene_info\")`  \n",
    "\n",
    "\n",
    "+ If your interaction graph is stored in **a SIF file**, you can choose to create a *standardized* file (and then import it in BoNesis):\n",
    "`file_standardization(<input file>, <NCBI gene data TSV file>, <set of column(s) containing the genenames to standardize>, <field separator>)`  \n",
    "|  \n",
    "*Example:*  \n",
    "`file_standardization(\"2022-10-04_dorotheaABC.sif\", \"Mus_musculus.gene_info\", (0,2), \"\\t\")`  \n",
    "in order to get an output SIF file which is a *standardized* interaction graph (each gene named by its NCBI symbol), `(0,2)` being the columns containing the genes in a SIF file.\n",
    "   * *INPUT*\n",
    "       1. **path_input**: path to the input file in which the names must be standardized.\n",
    "       2. **path_NCBIgenedata**: path to the NCBI gene info file.\n",
    "       3. **columns_to_standardize** : the columns into the input file which contain the gene names we want to standardize. Columns must start at index 0.\n",
    "       4. **sep**: the field separator into the input SIF file (the gene data file provided by NCBI is a TSV).\n",
    "   * *OUTPUT*\n",
    "       + copy of the input file, with genes in columns_to_standardize replaced by their reference names (capitalized NCBI symbol). The file is named like the input file with, at its end, the extension \"_standardized\"."
   ]
  },
  {
   "cell_type": "code",
   "execution_count": 3,
   "metadata": {},
   "outputs": [],
   "source": [
    "import gene_name_standardization as gns"
   ]
  },
  {
   "cell_type": "code",
   "execution_count": null,
   "metadata": {},
   "outputs": [],
   "source": [
    "help(gns)"
   ]
  },
  {
   "cell_type": "code",
   "execution_count": 4,
   "metadata": {},
   "outputs": [
    {
     "data": {
      "text/plain": [
       "[('AR', 'ALPPL2', {'sign': -1}),\n",
       " ('UGT1A6A', 'AHR', {'sign': -1}),\n",
       " ('ZFP217', 'ACPP', {'sign': 1})]"
      ]
     },
     "execution_count": 4,
     "metadata": {},
     "output_type": "execute_result"
    }
   ],
   "source": [
    "# Example:\n",
    "\n",
    "interaction_graph = [\n",
    "(\"AR\",\"ALPG\",dict(sign=-1)),\n",
    "(\"UGT1A6\",\"AHR\",dict(sign=-1)),\n",
    "(\"ZNF217\",\"ACP3\",dict(sign=1)),\n",
    "]\n",
    "\n",
    "gns.interaction_list_standardization(interaction_graph, \"data/Mus_musculus.gene_info\")"
   ]
  },
  {
   "cell_type": "code",
   "execution_count": null,
   "metadata": {},
   "outputs": [],
   "source": [
    "# Example:\n",
    "\n",
    "gns.file_standardization(\"data/dorothea_ABC_mouse_20230214.sif\", \"data/Mus_musculus.gene_info\", (0,2), \"\\t\")"
   ]
  },
  {
   "cell_type": "code",
   "execution_count": null,
   "metadata": {},
   "outputs": [],
   "source": []
  }
 ],
 "metadata": {
  "kernelspec": {
   "display_name": "Python 3",
   "language": "python",
   "name": "python3"
  },
  "language_info": {
   "codemirror_mode": {
    "name": "ipython",
    "version": 3
   },
   "file_extension": ".py",
   "mimetype": "text/x-python",
   "name": "python",
   "nbconvert_exporter": "python",
   "pygments_lexer": "ipython3",
   "version": "3.8.10"
  }
 },
 "nbformat": 4,
 "nbformat_minor": 4
}
