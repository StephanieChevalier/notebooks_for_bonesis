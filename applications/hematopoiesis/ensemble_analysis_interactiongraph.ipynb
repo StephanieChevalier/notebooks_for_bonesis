{
 "cells": [
  {
   "cell_type": "markdown",
   "metadata": {},
   "source": [
    "# What do the models and their interaction graphs look like?"
   ]
  },
  {
   "cell_type": "code",
   "execution_count": 1,
   "metadata": {},
   "outputs": [],
   "source": [
    "import mpbn\n",
    "import pandas as pd\n",
    "import numpy as np\n",
    "import matplotlib.pyplot as plt"
   ]
  },
  {
   "cell_type": "code",
   "execution_count": 2,
   "metadata": {},
   "outputs": [],
   "source": [
    "modelname = []\n",
    "modelname.extend([f\"models/bn{n}.bnet\" for n in range(1000)])\n",
    "\n",
    "solutions = list()\n",
    "for i,n in enumerate(modelname):\n",
    "    solutions.append(mpbn.MPBooleanNetwork(f\"{n}\"))"
   ]
  },
  {
   "cell_type": "markdown",
   "metadata": {},
   "source": [
    "`clauses_per_model` : list of models, each model being a dictionary\n",
    "* keys = **model's nodes** \n",
    "* value = a set (-> **the clauses constituting the node's function in the model**)"
   ]
  },
  {
   "cell_type": "code",
   "execution_count": 3,
   "metadata": {},
   "outputs": [],
   "source": [
    "# For each model, I store the clauses per node\n",
    "clauses_per_model = list() #Each element of this list will correspond to a model, it's a dict linking nodes and their clauses.\n",
    "for i, model in enumerate(solutions): #We go through the 1000 models.\n",
    "    clauses_of_a_node = dict() #The dict that will link a node to its clauses.\n",
    "    for node in model.keys(): #We go through the nodes of the model.\n",
    "        #if not isinstance(model[node],frozenset):\n",
    "        if model[node]==True or model[node]==False :\n",
    "            clauses_of_a_node[node] = model[node]\n",
    "        else:\n",
    "            clauses_of_a_node[node] = mpbn.minibn.struct_of_dnf(model.ba, model[node]) #We store the clauses ruling this node.\n",
    "    clauses_per_model.append(clauses_of_a_node) #Now that all nodes are linked with their clauses, we save this information as a new element in clauses_per_model."
   ]
  },
  {
   "cell_type": "markdown",
   "metadata": {},
   "source": [
    "`influences` : dictionnary\n",
    "* keys = **model's nodes** \n",
    "* value = dictionary  \n",
    "     + keys = **its inhibitors and activators**\n",
    "     + value = **number of models having this inhibitor/activator in the node's function**\n",
    "\n",
    "`constantes` : dictionnary\n",
    "* keys = **model's nodes with at least one constant function in a model (constant function : 1 or 0)**\n",
    "* value = dictionnary\n",
    "     + key = **value of the constant function (TRUE for 1, FALSE for 0)**\n",
    "     + value = **number of models having 1 or 0 as function for the node**"
   ]
  },
  {
   "cell_type": "code",
   "execution_count": 25,
   "metadata": {},
   "outputs": [],
   "source": [
    "influences = dict()\n",
    "constantes = dict()\n",
    "for model in clauses_per_model:\n",
    "    for node, influenceurs_set in model.items():\n",
    "        temp = set()\n",
    "        if node not in influences:\n",
    "            influences[node] = dict()\n",
    "        #print(influenceurs_set)\n",
    "        #print(type(influenceurs_set))\n",
    "        #print(isinstance(influenceurs_set, bool))\n",
    "        if influenceurs_set != True and influenceurs_set != False:\n",
    "            for conjonctions in influenceurs_set:\n",
    "                for clause in conjonctions:\n",
    "                    if clause[0] not in temp:\n",
    "                        temp.add(clause[0])\n",
    "                        if clause[0] not in influences[node]:\n",
    "                            influences[node][clause[0]] = dict()\n",
    "                            influences[node][clause[0]][clause[1]] = 1\n",
    "                        elif clause[1] not in influences[node][clause[0]]:\n",
    "                            influences[node][clause[0]][clause[1]] = 1\n",
    "                        else:\n",
    "                            influences[node][clause[0]][clause[1]] += 1\n",
    "        else:\n",
    "            if node not in constantes:\n",
    "                constantes[node] = dict()\n",
    "            if influenceurs_set not in constantes[node]:\n",
    "                constantes[node][influenceurs_set] = 1\n",
    "            else:\n",
    "                constantes[node][influenceurs_set] += 1"
   ]
  },
  {
   "cell_type": "code",
   "execution_count": 5,
   "metadata": {},
   "outputs": [
    {
     "name": "stdout",
     "output_type": "stream",
     "text": [
      "-- ATF3 --\n",
      "JUN: {True: 1000}\n",
      "CREM: {True: 889}\n",
      "TRP53: {True: 885}\n",
      "KLF6: {True: 885}\n",
      "-- ATF7 --\n",
      "MYC: {True: 1000}\n",
      "-- CEBPA --\n",
      "HNF4A: {True: 1000}\n",
      "MYC: {False: 995}\n",
      "MYB: {True: 110}\n",
      "-- CREM --\n",
      "FOS: {True: 995}\n",
      "SP1: {True: 995}\n",
      "STAT1: {True: 995}\n",
      "JUN: {True: 995}\n",
      "-- E2F1 --\n",
      "TRP53: {False: 1000}\n",
      "ESR1: {True: 112}\n",
      "SP1: {True: 110}\n",
      "MYC: {True: 110}\n",
      "-- EBF1 --\n",
      "TBX21: {True: 1000}\n",
      "-- ESR1 --\n",
      "STAT1: {True: 1000}\n",
      "STAT3: {True: 995}\n",
      "TRP53: {True: 995}\n",
      "SP1: {True: 995}\n",
      "FOXO3: {True: 995}\n",
      "-- FLI1 --\n",
      "EBF1: {True: 1000}\n",
      "MEF2C: {True: 942}\n",
      "SPI1: {True: 890}\n",
      "-- FOS --\n",
      "JUN: {True: 999}\n",
      "STAT3: {True: 997}\n",
      "ESR1: {True: 970}\n",
      "STAT6: {True: 891}\n",
      "SP1: {True: 996}\n",
      "STAT1: {True: 995}\n",
      "FLI1: {True: 996}\n",
      "CREM: {False: 995}\n",
      "TRP53: {True: 995}\n",
      "SPI1: {True: 961}\n",
      "-- FOXO3 --\n",
      "-- FOXP2 --\n",
      "-- GATA1 --\n",
      "FLI1: {True: 1000}\n",
      "-- GFI1B --\n",
      "GATA1: {True: 1000}\n",
      "-- HBP1 --\n",
      "FOXO3: {True: 1000}\n",
      "MYC: {True: 110}\n",
      "-- HNF4A --\n",
      "SP1: {True: 997}\n",
      "CEBPA: {True: 998}\n",
      "TRP53: {False: 886}\n",
      "-- IKZF1 --\n",
      "TBX21: {True: 1000}\n",
      "ZEB2: {False: 1}\n",
      "-- IRF1 --\n",
      "STAT1: {True: 996}\n",
      "KLF6: {True: 1000}\n",
      "STAT3: {True: 998}\n",
      "STAT6: {True: 1000}\n",
      "RELA: {True: 996}\n",
      "-- IRF2 --\n",
      "MYC: {True: 1000}\n",
      "STAT1: {True: 997}\n",
      "IRF1: {True: 997}\n",
      "-- JUN --\n",
      "STAT1: {True: 998}\n",
      "SP1: {True: 1000}\n",
      "MEF2C: {True: 998}\n",
      "E2F1: {True: 1000}\n",
      "ESR1: {True: 999}\n",
      "MYC: {True: 110}\n",
      "-- JUNB --\n",
      "STAT3: {True: 996}\n",
      "STAT1: {True: 995}\n",
      "ESR1: {True: 110}\n",
      "-- KLF1 --\n",
      "MYB: {True: 1000}\n",
      "-- KLF6 --\n",
      "TBP: {True: 1000}\n",
      "JUNB: {True: 3}\n",
      "-- MEF2C --\n",
      "ZEB2: {False: 1000}\n",
      "GFI1B: {False: 1000}\n",
      "NFATC1: {True: 41}\n",
      "-- MYB --\n",
      "E2F1: {True: 1000}\n",
      "JUN: {True: 996}\n",
      "ESR1: {True: 996}\n",
      "SPI1: {True: 995}\n",
      "-- MYC --\n",
      "TBP: {True: 997}\n",
      "TRP53: {False: 997}\n",
      "CEBPA: {False: 997}\n",
      "STAT3: {True: 999}\n",
      "FOS: {False: 997}\n",
      "JUN: {False: 998}\n",
      "E2F1: {True: 890}\n",
      "HNF4A: {True: 997}\n",
      "STAT1: {True: 996}\n",
      "RELA: {True: 996}\n",
      "MYB: {True: 996}\n",
      "SP1: {True: 996}\n",
      "ESR1: {True: 995}\n",
      "-- NFATC1 --\n",
      "CREM: {True: 1000}\n",
      "MEF2C: {True: 995}\n",
      "FOS: {True: 995}\n",
      "-- NRF1 --\n",
      "ESR1: {True: 1000}\n",
      "-- RELA --\n",
      "E2F1: {True: 1000}\n",
      "-- RUNX1 --\n",
      "ATF3: {False: 1000}\n",
      "TBP: {True: 998}\n",
      "HBP1: {True: 998}\n",
      "FOXP2: {False: 889}\n",
      "SPI1: {True: 995}\n",
      "-- SP1 --\n",
      "CEBPA: {True: 1000}\n",
      "ESR1: {True: 885}\n",
      "-- SPI1 --\n",
      "RUNX1: {True: 1000}\n",
      "CEBPA: {True: 3}\n",
      "SP1: {True: 885}\n",
      "-- STAT1 --\n",
      "FOXP2: {False: 1000}\n",
      "TRP53: {True: 891}\n",
      "STAT3: {True: 57}\n",
      "-- STAT3 --\n",
      "TRP53: {False: 1000}\n",
      "SPI1: {True: 999}\n",
      "CEBPA: {True: 886}\n",
      "STAT1: {True: 996}\n",
      "ATF3: {False: 996}\n",
      "-- STAT6 --\n",
      "MYC: {True: 1000}\n",
      "-- TBP --\n",
      "HNF4A: {True: 1000}\n",
      "-- TBX21 --\n",
      "RELA: {True: 1000}\n",
      "STAT1: {True: 885}\n",
      "-- TCF12 --\n",
      "ATF7: {True: 906}\n",
      "MYC: {True: 94}\n",
      "-- TRP53 --\n",
      "SP1: {True: 998}\n",
      "MYC: {True: 997}\n",
      "FOS: {True: 996}\n",
      "IRF1: {True: 997}\n",
      "JUN: {False: 998}\n",
      "E2F1: {True: 995}\n",
      "STAT3: {True: 995}\n",
      "ESR1: {False: 974}\n",
      "STAT1: {True: 995}\n",
      "RELA: {True: 995}\n",
      "-- ZEB2 --\n",
      "IRF2: {True: 1000}\n"
     ]
    }
   ],
   "source": [
    "# The number of models with this influencer in the function of the node:\n",
    "for node,influenceurs in influences.items():\n",
    "    print(f\"-- {node} --\")\n",
    "    for influenceur, influence in influenceurs.items():\n",
    "        print(f\"{influenceur}: {influence}\")"
   ]
  },
  {
   "cell_type": "markdown",
   "metadata": {},
   "source": [
    "**To know the number of possible functions for each node:**"
   ]
  },
  {
   "cell_type": "code",
   "execution_count": 7,
   "metadata": {},
   "outputs": [],
   "source": [
    "fonctions_differentes = dict()\n",
    "fonctions_differentes_avec_occurrence = dict()\n",
    "\n",
    "for node in influences.keys():\n",
    "    fonctions_differentes[node] = set()\n",
    "    fonctions_differentes_avec_occurrence[node] = dict()\n",
    "    for model in clauses_per_model:\n",
    "        fonctions_differentes[node].add(model[node])\n",
    "        if model[node] not in fonctions_differentes_avec_occurrence[node]:\n",
    "            fonctions_differentes_avec_occurrence[node][model[node]] = 1\n",
    "        else:\n",
    "            fonctions_differentes_avec_occurrence[node][model[node]] += 1"
   ]
  },
  {
   "cell_type": "code",
   "execution_count": 8,
   "metadata": {
    "scrolled": true
   },
   "outputs": [
    {
     "name": "stdout",
     "output_type": "stream",
     "text": [
      "ATF3: 3\n",
      "ATF7: 1\n",
      "CEBPA: 3\n",
      "CREM: 4\n",
      "E2F1: 3\n",
      "EBF1: 1\n",
      "ESR1: 2\n",
      "FLI1: 3\n",
      "FOS: 682\n",
      "FOXO3: 1\n",
      "FOXP2: 1\n",
      "GATA1: 1\n",
      "GFI1B: 1\n",
      "HBP1: 2\n",
      "HNF4A: 5\n",
      "IKZF1: 2\n",
      "IRF1: 5\n",
      "IRF2: 4\n",
      "JUN: 5\n",
      "JUNB: 4\n",
      "KLF1: 1\n",
      "KLF6: 2\n",
      "MEF2C: 2\n",
      "MYB: 5\n",
      "MYC: 16\n",
      "NFATC1: 2\n",
      "NRF1: 1\n",
      "RELA: 1\n",
      "RUNX1: 6\n",
      "SP1: 2\n",
      "SPI1: 3\n",
      "STAT1: 4\n",
      "STAT3: 5\n",
      "STAT6: 1\n",
      "TBP: 1\n",
      "TBX21: 2\n",
      "TCF12: 2\n",
      "TRP53: 44\n",
      "ZEB2: 1\n"
     ]
    }
   ],
   "source": [
    "noeuds_communs_a_tout_modele = list()\n",
    "for node, functions in fonctions_differentes.items():\n",
    "    print(f\"{node}: {len(functions)}\")\n",
    "    if len(functions) == 1:\n",
    "        noeuds_communs_a_tout_modele.append(node)"
   ]
  },
  {
   "cell_type": "code",
   "execution_count": 10,
   "metadata": {},
   "outputs": [
    {
     "name": "stdout",
     "output_type": "stream",
     "text": [
      "Nodes common to all models :\n",
      "['ATF7', 'EBF1', 'FOXO3', 'FOXP2', 'GATA1', 'GFI1B', 'KLF1', 'NRF1', 'RELA', 'STAT6', 'TBP', 'ZEB2']\n"
     ]
    }
   ],
   "source": [
    "print(f\"Nodes common to all models :\\n{noeuds_communs_a_tout_modele}\")"
   ]
  },
  {
   "cell_type": "markdown",
   "metadata": {},
   "source": [
    "**To know, for each possible function, the number of models having it:**"
   ]
  },
  {
   "cell_type": "code",
   "execution_count": 11,
   "metadata": {},
   "outputs": [],
   "source": [
    "def nb_of_models_having_each_function(node):\n",
    "    for fonction, occurrence in fonctions_differentes_avec_occurrence[node].items():\n",
    "        print(f\"-- {occurrence:3d}:\")\n",
    "        for clause in fonction:\n",
    "            print(f\"{clause}\")"
   ]
  },
  {
   "cell_type": "markdown",
   "metadata": {},
   "source": [
    "## Creation of the influence graph, with:\n",
    "\n",
    "* on the arcs, the number of models (among the 1000) that have the influence\n",
    "* dark blue highlighting of nodes with a constant function in at least one model\n",
    "* on each node, the number of different functions possible on the 1000 models"
   ]
  },
  {
   "cell_type": "code",
   "execution_count": 14,
   "metadata": {},
   "outputs": [],
   "source": [
    "import graphviz"
   ]
  },
  {
   "cell_type": "code",
   "execution_count": 15,
   "metadata": {},
   "outputs": [],
   "source": [
    "from typing import List, Dict\n",
    "\n",
    "\n",
    "def get_arcs_size(l_input: List, min_intensity: int = 1, max_intensity: int = 10) -> Dict[int, str]:\n",
    "    res = {}\n",
    "    get_arc_size_rec(l_input, res, min_intensity, max_intensity)\n",
    "    return res\n",
    "       \n",
    "def get_arc_size_rec(l_rec: List, res: Dict[int, str], inf: int, sup: int, left: bool = False):\n",
    "    max_diff = 0\n",
    "    index_max_diff = 0\n",
    "    for i in range(len(l_rec) - 1):\n",
    "        diff = l_rec[i + 1] - l_rec[i]\n",
    "        if diff > max_diff:\n",
    "            max_diff = diff\n",
    "            index_max_diff = i\n",
    "\n",
    "    if max_diff == 0 or inf == sup:\n",
    "        for element in l_rec:\n",
    "            if left:\n",
    "                res[element] = str(inf)\n",
    "            else:\n",
    "                res[element] = str(sup)\n",
    "    else:\n",
    "        get_arc_size_rec(l_rec[0:index_max_diff+1], res, inf, (inf+sup)//2, True)\n",
    "        get_arc_size_rec(l_rec[index_max_diff+1:], res, (inf+sup)//2 + 1, sup)"
   ]
  },
  {
   "cell_type": "markdown",
   "metadata": {},
   "source": [
    "### Analysis of common edges and nodes in the models:"
   ]
  },
  {
   "cell_type": "code",
   "execution_count": 17,
   "metadata": {},
   "outputs": [],
   "source": [
    "occurrences = dict()\n",
    "for target, sources in influences.items():\n",
    "    for source, influences in sources.items():\n",
    "        for influence, occurrence in influences.items():\n",
    "            if occurrence not in occurrences:\n",
    "                occurrences[occurrence] = list()\n",
    "            occurrences[occurrence].append((source,target))\n",
    "\n",
    "max_intensity = 8\n",
    "intensity = get_arcs_size(sorted(occurrences.keys()), max_intensity=max_intensity)\n",
    "intensity[1000]=str(max_intensity+5)"
   ]
  },
  {
   "cell_type": "markdown",
   "metadata": {},
   "source": [
    "**To know the number of arcs present in X models:**"
   ]
  },
  {
   "cell_type": "code",
   "execution_count": 18,
   "metadata": {
    "scrolled": true
   },
   "outputs": [
    {
     "name": "stdout",
     "output_type": "stream",
     "text": [
      " 1 arcs présents dans   1 modèles\n",
      " 2 arcs présents dans   3 modèles\n",
      " 1 arcs présents dans  41 modèles\n",
      " 1 arcs présents dans  57 modèles\n",
      " 1 arcs présents dans  94 modèles\n",
      " 6 arcs présents dans 110 modèles\n",
      " 1 arcs présents dans 112 modèles\n",
      " 5 arcs présents dans 885 modèles\n",
      " 2 arcs présents dans 886 modèles\n",
      " 2 arcs présents dans 889 modèles\n",
      " 2 arcs présents dans 890 modèles\n",
      " 2 arcs présents dans 891 modèles\n",
      " 1 arcs présents dans 906 modèles\n",
      " 1 arcs présents dans 942 modèles\n",
      " 1 arcs présents dans 961 modèles\n",
      " 1 arcs présents dans 970 modèles\n",
      " 1 arcs présents dans 974 modèles\n",
      "22 arcs présents dans 995 modèles\n",
      "14 arcs présents dans 996 modèles\n",
      "11 arcs présents dans 997 modèles\n",
      " 9 arcs présents dans 998 modèles\n",
      " 4 arcs présents dans 999 modèles\n",
      "33 arcs présents dans 1000 modèles\n"
     ]
    }
   ],
   "source": [
    "for occurrence, arcs in sorted(occurrences.items()):\n",
    "    print(f\"{len(arcs):2d} arcs présents dans {occurrence:3d} modèles\")"
   ]
  },
  {
   "cell_type": "markdown",
   "metadata": {},
   "source": [
    "### Creation of knots, colored and shaped according to their variability through the models\n",
    "\n",
    "* bright yellow if identical function in all models\n",
    "* pale yellow if 2 possible functions\n",
    "* beige if 3 possible functions"
   ]
  },
  {
   "cell_type": "code",
   "execution_count": 19,
   "metadata": {},
   "outputs": [],
   "source": [
    "models_per_edge = graphviz.Digraph('models_per_edge', comment='Display the number of models having each edge in its influence graph.')\n",
    "models_per_edge.graph_attr['ratio'] = '1.1'"
   ]
  },
  {
   "cell_type": "code",
   "execution_count": 20,
   "metadata": {},
   "outputs": [],
   "source": [
    "# Creation of non-constant nodes:\n",
    "\n",
    "for node in fonctions_differentes:\n",
    "    if node not in constantes:\n",
    "        if len(fonctions_differentes[node]) == 1:\n",
    "            models_per_edge.node(node, label=f\"{node}\\n{len(fonctions_differentes[node])} func\", fillcolor=\"darkgoldenrod2\", style=\"rounded,filled,bold\", shape=\"oval\", fontcolor=\"black\", fontname=\"arial bold\", fontsize=\"50pt\")\n",
    "        elif len(fonctions_differentes[node]) == 2:\n",
    "            models_per_edge.node(node, label=f\"{node}\\n{len(fonctions_differentes[node])} func\", fillcolor=\"lightgoldenrod1\" , style=\"rounded,filled\", shape=\"oval\", fontsize=\"40pt\")\n",
    "        elif len(fonctions_differentes[node]) == 3:\n",
    "            models_per_edge.node(node, label=f\"{node}\\n{len(fonctions_differentes[node])} func\", fillcolor=\"cornsilk\" , style=\"rounded,filled\", shape=\"oval\", fontsize=\"35pt\")\n",
    "        elif len(fonctions_differentes[node]) < 10:\n",
    "            models_per_edge.node(node, label=f\"{node}\\n{len(fonctions_differentes[node])} func\", fillcolor=\"white\" , style=\"rounded,filled\", shape=\"oval\", fontsize=\"30pt\")\n",
    "        else:\n",
    "            models_per_edge.node(node, label=f\"{node}\\n{len(fonctions_differentes[node])} func\", fillcolor=\"white\", style=\"rounded,filled,dotted\", shape=\"oval\", fontsize=\"30pt\")"
   ]
  },
  {
   "cell_type": "code",
   "execution_count": 21,
   "metadata": {},
   "outputs": [],
   "source": [
    "# Creation of constant nodes:\n",
    "\n",
    "for constante, influence in constantes.items():\n",
    "    for signe, occurrence in influence.items():\n",
    "        #signe = 1 if signe == True else 0\n",
    "        if len(fonctions_differentes[constante]) == 1:\n",
    "            models_per_edge.node(constante, label=f\"{constante}\\n{len(fonctions_differentes[constante])} func\\n{signe}: {occurrence}\", fillcolor=\"darkgoldenrod2\", style=\"rounded,filled,bold\", shape=\"box\", fontcolor=\"black\", fontname=\"arial bold\", fontsize=\"45pt\")\n",
    "        elif len(fonctions_differentes[constante]) == 2:\n",
    "            models_per_edge.node(constante, label=f\"{constante}\\n{len(fonctions_differentes[constante])} func\\n{signe}: {occurrence}\", fillcolor=\"lightgoldenrod1\", style=\"rounded,filled\", shape=\"box\", fontsize=\"35pt\")\n",
    "        elif len(fonctions_differentes[constante]) == 3:\n",
    "            models_per_edge.node(constante, label=f\"{constante}\\n{len(fonctions_differentes[constante])} func\\n{signe}: {occurrence}\", fillcolor=\"cornsilk\", style=\"rounded,filled\", shape=\"box\", fontsize=\"30pt\")\n",
    "        elif len(fonctions_differentes[constante]) < 10:\n",
    "            models_per_edge.node(constante, label=f\"{constante}\\n{len(fonctions_differentes[constante])} func\\n{signe}: {occurrence}\", fillcolor=\"white\", style=\"rounded,filled\", shape=\"box\", fontsize=\"25pt\")\n",
    "        else:\n",
    "            models_per_edge.node(constante, label=f\"{constante}\\n{len(fonctions_differentes[constante])} func\\n{signe}: {occurrence}\", fillcolor=\"white\", style=\"rounded,filled,dotted\", shape=\"box\", fontsize=\"25pt\")"
   ]
  },
  {
   "cell_type": "code",
   "execution_count": 26,
   "metadata": {},
   "outputs": [],
   "source": [
    "# Creation of the arcs, colored according to the activating/inhibiting influence:\n",
    "\n",
    "occurrences_liste = list()\n",
    "for target, sources in influences.items():\n",
    "    #if target==\"STAT3\":\n",
    "    for source, infl in sources.items():\n",
    "        #print(f\"{source}, {infl}\")\n",
    "        for influence, occurrence in infl.items():\n",
    "            occurrences_liste.append(occurrence)\n",
    "            if influence == True:\n",
    "                if (source, target) in occurrences[1000]:\n",
    "                    models_per_edge.edge(source, target, label=f\"{occurrence}\", penwidth=intensity[occurrence], color=\"darkgreen\", fontcolor=\"darkgreen\", fontname=\"arial bold\", fontsize=\"30pt\", arrowsize=\"2\")\n",
    "                else:\n",
    "                    # Ligne commentée correspond au graphe sans utilisation de l'intensité pour définir la largeur de la flèche.\n",
    "                    #models_per_edge.edge(source, target, label=str(occurrence), penwidth=str(occurrence/100), color=\"green\")\n",
    "                    models_per_edge.edge(source, target, label=str(occurrence), penwidth=intensity[occurrence], color=\"darkolivegreen3\", fontcolor=\"darkolivegreen3\", fontname=\"arial bold\", fontsize=\"30pt\", arrowsize=\"2\")\n",
    "            else:\n",
    "                if (source, target) in occurrences[1000]:\n",
    "                    models_per_edge.edge(source, target, label=str(occurrence), arrowhead=\"tee\", penwidth=intensity[occurrence], color=\"firebrick\", fontcolor=\"firebrick\", fontname=\"arial bold\", fontsize=\"30pt\", arrowsize=\"3\")\n",
    "                else:\n",
    "                    #models_per_edge.edge(source, target, label=str(occurrence), arrowhead=\"tee\", penwidth=str(occurrence/100), color=\"red\"\n",
    "                    models_per_edge.edge(source, target, label=str(occurrence), arrowhead=\"tee\", penwidth=intensity[occurrence], color=\"lightcoral\", fontcolor=\"lightcoral\", fontname=\"arial bold\", fontsize=\"30pt\", arrowsize=\"3\")\n",
    "            #print(f\"{source} {target} {influence} {occurrence}\")"
   ]
  },
  {
   "cell_type": "markdown",
   "metadata": {},
   "source": [
    "**Saving the graph:**"
   ]
  },
  {
   "cell_type": "code",
   "execution_count": 28,
   "metadata": {},
   "outputs": [
    {
     "data": {
      "text/plain": [
       "'data/analysis/IGstat.pdf.pdf'"
      ]
     },
     "execution_count": 28,
     "metadata": {},
     "output_type": "execute_result"
    }
   ],
   "source": [
    "# Save to a PDF file named \"models_per_edge.gv.pdf\"\n",
    "models_per_edge.render(filename=\"IGstat.pdf\", directory='data/analysis/', view=True)"
   ]
  },
  {
   "cell_type": "code",
   "execution_count": null,
   "metadata": {},
   "outputs": [],
   "source": []
  }
 ],
 "metadata": {
  "kernelspec": {
   "display_name": "Python 3",
   "language": "python",
   "name": "python3"
  },
  "language_info": {
   "codemirror_mode": {
    "name": "ipython",
    "version": 3
   },
   "file_extension": ".py",
   "mimetype": "text/x-python",
   "name": "python",
   "nbconvert_exporter": "python",
   "pygments_lexer": "ipython3",
   "version": "3.8.10"
  }
 },
 "nbformat": 4,
 "nbformat_minor": 4
}
