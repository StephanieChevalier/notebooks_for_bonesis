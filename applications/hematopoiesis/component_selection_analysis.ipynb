{
 "cells": [
  {
   "cell_type": "markdown",
   "metadata": {},
   "source": [
    "# Analysis of the selection"
   ]
  },
  {
   "cell_type": "markdown",
   "metadata": {},
   "source": [
    "## The component selection (i.e. list of components after strong constant removal) <a class=\"anchor\" id=\"component_list\"></a>"
   ]
  },
  {
   "cell_type": "code",
   "execution_count": 1,
   "metadata": {},
   "outputs": [
    {
     "name": "stdout",
     "output_type": "stream",
     "text": [
      "Number of nodes : 39\n"
     ]
    }
   ],
   "source": [
    "components = (\"ATF3\", \"ATF7\", \"CEBPA\", \"CREM\", \"E2F1\", \"EBF1\", \"ESR1\", \"FLI1\", \"FOS\", \"FOXO3\", \"FOXP2\", \"GATA1\", \"GFI1B\", \"HBP1\", \"HNF4A\", \"IKZF1\", \"IRF1\", \"IRF2\", \"JUN\", \"JUNB\", \"KLF1\", \"KLF6\", \"MEF2C\", \"MYB\", \"MYC\", \"NFATC1\", \"NRF1\", \"RELA\", \"RUNX1\", \"SP1\", \"SPI1\", \"STAT1\", \"STAT3\", \"STAT6\", \"TBP\", \"TBX21\", \"TCF12\", \"TRP53\", \"ZEB2\")\n",
    "print(f\"Number of nodes : {len(components)}\")"
   ]
  },
  {
   "cell_type": "markdown",
   "metadata": {},
   "source": [
    "## Comparison with state-of-the-art models\n",
    "* Hamey et al, 2017, Reconstructing blood stem cell regulatory network models from single-cell molecular profiles.\n",
    "* Collombet et al, 2017, Logical modeling of lymphoid and myeloid cell specification and transdifferentiation.\n",
    "* Moignard et al, 2015, Decoding the regulatory network of early blood development from single-cell gene expression measurements."
   ]
  },
  {
   "cell_type": "code",
   "execution_count": 2,
   "metadata": {},
   "outputs": [
    {
     "name": "stdout",
     "output_type": "stream",
     "text": [
      "Hamey: 31\n",
      "Collombet: 20\n",
      "Moignard: 20\n"
     ]
    }
   ],
   "source": [
    "hamey = {\"BPTF\", \"PRDM16\", \"GATA3\", \"ETV6\", \"NKX2.3\", \"HOXA5\", \"ETS1\", \"NOTCH\", \"HOXB4\", \"GFI1B\", \"TAL1\", \"HHEX\", \"PBX1\", \"GATA2\", \"NFE2\", \"MEIS1\", \"CBFA2T3H\", \"ETS2\", \"GATA1\", \"LMO2\", \"LDB1\", \"IKZF1\", \"SMARCC1\", \"FLI1\", \"LYL1\", \"HOXA9\", \"MITF\", \"RUNX1\", \"TCF7\", \"ERG\", \"MYB\"}\n",
    "collombet = {\"CSF1\", \"CSF1R\", \"CEBPA\", \"CEBPB\", \"MAC1\", \"RUNX1\", \"SPI1\", \"MEF2C\", \"IKZF1\", \"GFI1\", \"EGR1\", \"E2A\", \"ID2\", \"ETS1\", \"FOXO1\", \"EBF1\", \"PAX5\", \"CD19\", \"IL7\", \"IL7R\"}\n",
    "moignard = {\"ETV2\", \"FLI1\", \"SCL\", \"GATA1\", \"NOTCH1\", \"SOX7\", \"HOXB4\", \"LYL1\", \"IKAROS\", \"ERG\", \"PU.1\", \"MYB\", \"NFE2\", \"ETS1\", \"ETO2\", \"HHEX\", \"LMO2\", \"SOX17\", \"GFI1\", \"GFI1B\"}\n",
    "\n",
    "print(f\"Hamey: {len(hamey)}\")\n",
    "print(f\"Collombet: {len(collombet)}\")\n",
    "print(f\"Moignard: {len(moignard)}\")"
   ]
  },
  {
   "cell_type": "markdown",
   "metadata": {},
   "source": [
    "**Gene name standardization:**"
   ]
  },
  {
   "cell_type": "code",
   "execution_count": 3,
   "metadata": {},
   "outputs": [],
   "source": [
    "import gene_name_standardization as gns"
   ]
  },
  {
   "cell_type": "code",
   "execution_count": 4,
   "metadata": {},
   "outputs": [],
   "source": [
    "import os\n",
    "synonyms = gns.synonyms_from_NCBI(\"data/Mus_musculus.gene_info.202103.tsv\")"
   ]
  },
  {
   "cell_type": "code",
   "execution_count": 5,
   "metadata": {},
   "outputs": [
    {
     "name": "stdout",
     "output_type": "stream",
     "text": [
      "Hamey's genes standardization:\n",
      "before:\t{'CBFA2T3H', 'NKX2.3'}\n",
      "after:\t{'NKX2-3', 'CBFA2T3'}\n"
     ]
    }
   ],
   "source": [
    "hamey_ref = gns.set_standardization(hamey, synonyms)\n",
    "print(f\"Hamey's genes standardization:\\nbefore:\\t{hamey.difference(hamey_ref)}\\nafter:\\t{hamey_ref.difference(hamey)}\")"
   ]
  },
  {
   "cell_type": "code",
   "execution_count": 6,
   "metadata": {},
   "outputs": [
    {
     "name": "stdout",
     "output_type": "stream",
     "text": [
      "Collombet's genes standardization:\n",
      "before:\t{'E2A', 'MAC1'}\n",
      "after:\t{'ITGAM', 'TCF3'}\n"
     ]
    }
   ],
   "source": [
    "collombet_ref = gns.set_standardization(collombet, synonyms)\n",
    "print(f\"Collombet's genes standardization:\\nbefore:\\t{collombet.difference(collombet_ref)}\\nafter:\\t{collombet_ref.difference(collombet)}\")"
   ]
  },
  {
   "cell_type": "code",
   "execution_count": 7,
   "metadata": {},
   "outputs": [
    {
     "name": "stdout",
     "output_type": "stream",
     "text": [
      "Moignard' genes standardization:\n",
      "before:\t{'ETO2', 'IKAROS', 'SCL', 'PU.1'}\n",
      "after:\t{'CBFA2T3', 'SCX', 'IKZF1', 'SPI1'}\n"
     ]
    }
   ],
   "source": [
    "moignard_ref = gns.set_standardization(moignard, synonyms)\n",
    "print(f\"Moignard' genes standardization:\\nbefore:\\t{moignard.difference(moignard_ref)}\\nafter:\\t{moignard_ref.difference(moignard)}\")"
   ]
  },
  {
   "cell_type": "markdown",
   "metadata": {},
   "source": [
    "**Comparison of the models and the component selection with BoNesis:**"
   ]
  },
  {
   "cell_type": "code",
   "execution_count": 8,
   "metadata": {},
   "outputs": [
    {
     "name": "stdout",
     "output_type": "stream",
     "text": [
      "Hamey - Moignard intersection: 13 genes\n",
      "['CBFA2T3', 'ERG', 'ETS1', 'FLI1', 'GATA1', 'GFI1B', 'HHEX', 'HOXB4', 'IKZF1', 'LMO2', 'LYL1', 'MYB', 'NFE2']\n",
      "\n",
      "Hamey - Collombet intersection: 3 genes\n",
      "['ETS1', 'IKZF1', 'RUNX1']\n",
      "\n",
      "Collombet - Moignard intersection: 4 genes\n",
      "['ETS1', 'GFI1', 'IKZF1', 'SPI1']\n",
      "\n",
      "Hamey - Collombet - Moignard: 2 genes\n",
      "['ETS1', 'IKZF1']\n",
      "\n"
     ]
    }
   ],
   "source": [
    "print(f\"Hamey - Moignard intersection: {len(hamey_ref.intersection(moignard_ref))} genes\\n{sorted(hamey_ref.intersection(moignard_ref))}\\n\")\n",
    "print(f\"Hamey - Collombet intersection: {len(hamey_ref.intersection(collombet_ref))} genes\\n{sorted(hamey_ref.intersection(collombet_ref))}\\n\")\n",
    "print(f\"Collombet - Moignard intersection: {len(collombet_ref.intersection(moignard_ref))} genes\\n{sorted(collombet_ref.intersection(moignard_ref))}\\n\")\n",
    "print(f\"Hamey - Collombet - Moignard: {len(hamey_ref.intersection(moignard_ref).intersection(collombet_ref))} genes\\n{sorted(hamey_ref.intersection(moignard_ref).intersection(collombet_ref))}\\n\")"
   ]
  },
  {
   "cell_type": "code",
   "execution_count": 9,
   "metadata": {},
   "outputs": [
    {
     "name": "stdout",
     "output_type": "stream",
     "text": [
      "Comparison of component selection via BoNesis with:\n",
      "\n",
      " - Hamey (31 nds), nb of common genes: 6\n",
      "['FLI1', 'GATA1', 'GFI1B', 'IKZF1', 'MYB', 'RUNX1']\n",
      "\n",
      " - Moignard (20 nds), nb of common genes: 6\n",
      "['FLI1', 'GATA1', 'GFI1B', 'IKZF1', 'MYB', 'SPI1']\n",
      "\n",
      " - Collombet (20 nds), nb of common genes: 6\n",
      "['CEBPA', 'EBF1', 'IKZF1', 'MEF2C', 'RUNX1', 'SPI1']\n",
      "\n",
      "Genes in common with the intersection of the three state-of-the-art models and the selection via BoNesis: 1\n",
      "['IKZF1']\n"
     ]
    }
   ],
   "source": [
    "print(f\"Comparison of component selection via BoNesis with:\\n\")\n",
    "print(f\" - Hamey ({len(hamey)} nds), nb of common genes: {len(set(components).intersection(hamey_ref))}\\n{sorted(list(set(components).intersection(hamey_ref)))}\\n\")\n",
    "print(f\" - Moignard ({len(moignard)} nds), nb of common genes: {len(set(components).intersection(moignard_ref))}\\n{sorted(list(set(components).intersection(moignard_ref)))}\\n\")\n",
    "print(f\" - Collombet ({len(collombet)} nds), nb of common genes: {len(set(components).intersection(collombet_ref))}\\n{sorted(list(set(components).intersection(collombet_ref)))}\\n\")\n",
    "print(f\"Genes in common with the intersection of the three state-of-the-art models and the selection via BoNesis: {len(set(components).intersection(hamey_ref).intersection(moignard_ref).intersection(collombet_ref))}\\n{list(set(components).intersection(hamey_ref).intersection(moignard_ref).intersection(collombet_ref))}\")"
   ]
  },
  {
   "cell_type": "code",
   "execution_count": 10,
   "metadata": {},
   "outputs": [
    {
     "name": "stdout",
     "output_type": "stream",
     "text": [
      "Hamey, Moignard, Collombet models have 53 distinct genes.\n",
      "10 over the 39 genes of our selection are in common with those being in state-of-the-art models: \n",
      "['CEBPA', 'EBF1', 'FLI1', 'GATA1', 'GFI1B', 'IKZF1', 'MEF2C', 'MYB', 'RUNX1', 'SPI1']\n"
     ]
    }
   ],
   "source": [
    "with_hamey = set(components).intersection(hamey_ref)\n",
    "with_moignard = set(components).intersection(moignard_ref)\n",
    "with_collombet = set(components).intersection(collombet_ref)\n",
    "\n",
    "selected_genes = with_hamey.union(with_moignard).union(with_collombet)\n",
    "\n",
    "print(f\"Hamey, Moignard, Collombet models have {len(hamey_ref.union(moignard_ref).union(collombet_ref))} distinct genes.\")\n",
    "print(f\"{len(selected_genes)} over the {len(components)} genes of our selection are in common with those being in state-of-the-art models: \\n{sorted(list(selected_genes))}\")"
   ]
  },
  {
   "cell_type": "code",
   "execution_count": null,
   "metadata": {},
   "outputs": [],
   "source": []
  }
 ],
 "metadata": {
  "kernelspec": {
   "display_name": "Python 3",
   "language": "python",
   "name": "python3"
  },
  "language_info": {
   "codemirror_mode": {
    "name": "ipython",
    "version": 3
   },
   "file_extension": ".py",
   "mimetype": "text/x-python",
   "name": "python",
   "nbconvert_exporter": "python",
   "pygments_lexer": "ipython3",
   "version": "3.8.10"
  }
 },
 "nbformat": 4,
 "nbformat_minor": 4
}
