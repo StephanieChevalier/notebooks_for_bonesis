{
 "cells": [
  {
   "cell_type": "code",
   "execution_count": 21,
   "metadata": {},
   "outputs": [],
   "source": [
    "import mpbn\n",
    "import pandas as pd\n",
    "import numpy as np"
   ]
  },
  {
   "cell_type": "markdown",
   "metadata": {},
   "source": [
    "# 1000 models"
   ]
  },
  {
   "cell_type": "code",
   "execution_count": 3,
   "metadata": {},
   "outputs": [],
   "source": [
    "modelname = []\n",
    "modelname.extend([f\"models/bn{n}.bnet\" for n in range(1000)])\n",
    "\n",
    "solutions = list()\n",
    "for i,n in enumerate(modelname):\n",
    "    solutions.append(mpbn.MPBooleanNetwork(f\"{n}\"))"
   ]
  },
  {
   "cell_type": "markdown",
   "metadata": {},
   "source": [
    "`clauses_per_model` : list of models, each model being a dictionary\n",
    "* keys = **model's nodes** \n",
    "* value = a set (-> **the clauses constituting the node's function in the model**)"
   ]
  },
  {
   "cell_type": "code",
   "execution_count": 4,
   "metadata": {},
   "outputs": [],
   "source": [
    "# For each model, I store the clauses per node\n",
    "clauses_per_model = list() #Each element of this list will correspond to a model, it's a dict linking nodes and their clauses.\n",
    "for i, model in enumerate(solutions): #We go through the 1000 models.\n",
    "    clauses_of_a_node = dict() #The dict that will link a node to its clauses.\n",
    "    for node in model.keys(): #We go through the nodes of the model.\n",
    "        #if not isinstance(model[node],frozenset):\n",
    "        if model[node]==True or model[node]==False :\n",
    "            clauses_of_a_node[node] = model[node]\n",
    "        else:\n",
    "            clauses_of_a_node[node] = mpbn.minibn.struct_of_dnf(model.ba, model[node]) #We store the clauses ruling this node.\n",
    "    clauses_per_model.append(clauses_of_a_node) #Now that all nodes are linked with their clauses, we save this information as a new element in clauses_per_model."
   ]
  },
  {
   "cell_type": "markdown",
   "metadata": {},
   "source": [
    "`dico` : dictionnary\n",
    "* keys = **model's nodes** \n",
    "* value = dictionary  \n",
    "     + keys = **its inhibitors and activators**\n",
    "     + value = **number of models having this inhibitor/activator in the node's function**\n",
    "\n",
    "`constantes` : dictionnary\n",
    "* keys = **model's nodes with at least one constant function in a model (constant function : 1 or 0)**\n",
    "* value = dictionnary\n",
    "     + key = **value of the constant function (TRUE for 1, FALSE for 0)**\n",
    "     + value = **number of models having 1 or 0 as function for the node**"
   ]
  },
  {
   "cell_type": "code",
   "execution_count": 7,
   "metadata": {},
   "outputs": [],
   "source": [
    "dico = dict()\n",
    "constantes = dict()\n",
    "for model in clauses_per_model:\n",
    "    for node, influenceurs_set in model.items():\n",
    "        temp = set()\n",
    "        if node not in dico:\n",
    "            dico[node] = dict()\n",
    "        #print(influenceurs_set)\n",
    "        #print(type(influenceurs_set))\n",
    "        #print(isinstance(influenceurs_set, bool))\n",
    "        if influenceurs_set != True and influenceurs_set != False:\n",
    "            for conjonctions in influenceurs_set:\n",
    "                for clause in conjonctions:\n",
    "                    if clause[0] not in temp:\n",
    "                        temp.add(clause[0])\n",
    "                        if clause[0] not in dico[node]:\n",
    "                            dico[node][clause[0]] = dict()\n",
    "                            dico[node][clause[0]][clause[1]] = 1\n",
    "                        elif clause[1] not in dico[node][clause[0]]:\n",
    "                            dico[node][clause[0]][clause[1]] = 1\n",
    "                        else:\n",
    "                            dico[node][clause[0]][clause[1]] += 1\n",
    "        else:\n",
    "            if node not in constantes:\n",
    "                constantes[node] = dict()\n",
    "            if influenceurs_set not in constantes[node]:\n",
    "                constantes[node][influenceurs_set] = 1\n",
    "            else:\n",
    "                constantes[node][influenceurs_set] += 1"
   ]
  },
  {
   "cell_type": "markdown",
   "metadata": {},
   "source": [
    "## Pour mettre en évidence d'éventuels clusters parmi les modèles :\n",
    "\n",
    "Utilisation de 2 méthodes de clustering :\n",
    "* MDS (MultiDimensional Scaling)\n",
    "* clustering hiérarchique ascendante (\"agglomerative\")\n",
    "\n",
    "Afin de pouvoir utiliser ces méthodes de clustering, il a fallu déterminer un calcul de distance entre modèles. Cette distance \"inter-BN\" est la suivante :  \n",
    "**Étant donné $m_1$ et $m_2$ deux réseaux booléens de dimension $n$,  \n",
    "la distance \"inter-BN\" $d(m_1,m_2) = \\sum_{i=1}^{n} \\mathbb{1}(m_{1}[i] \\neq m_{2}[i])$**\n",
    "\n",
    "Selon la graine aléatoire utilisée pour le MDS, j'obtiens 3 ou 4 clusters. Parmi eux, 2 clusters sont toujours strictement identiques. Pour les suivants, deux cas de figures en fonction qu'il y ait 3 ou 4 clusters au total :\n",
    "\n",
    "* **Dans le cas de la division en 4 clusters,** la division entre les 2 groupes restants est instable selon la graine aléatoire utilisée pour le calcul. Par exemple:\n",
    "   - **4+1 :** $[0, 93, 675, 966]$ et $[1]$\n",
    "   - **3+2 :** $[93, 675, 966]$ et $[0, 1]$\n",
    "* **Dans le cas de la division en 3 clusters,** les clusters restent identiques quelque soit les graines aléatoires testées. Le cluster n°3 étant :\n",
    "   - $[0, 1, 93, 675, 966]$\n",
    "\n",
    "\n",
    "Le clustering hiérarchique en 3 clusters aboutit en exactement aux mêmes 3 clusters que le MDS en 3 clusters. Le clustering hiérarchique en 4 clusters aboutit à la division suivante :\n",
    "* $[0, 1, 93, 966]$ et $[675]$\n",
    "\n",
    "Étant donné la constance de la division en 3 clusters, ce clustering apparaît comme le plus pertinent."
   ]
  },
  {
   "cell_type": "code",
   "execution_count": 15,
   "metadata": {},
   "outputs": [],
   "source": [
    "# packages pour calculer MDS et AgglomerativeClustering + scatterplot et dendrogram\n",
    "import sklearn as sk\n",
    "from sklearn import manifold\n",
    "from sklearn import cluster\n",
    "import sklearn.datasets as dt\n",
    "import seaborn as sns\n",
    "from scipy.cluster.hierarchy import dendrogram"
   ]
  },
  {
   "cell_type": "code",
   "execution_count": 16,
   "metadata": {},
   "outputs": [],
   "source": [
    "%matplotlib qt"
   ]
  },
  {
   "cell_type": "code",
   "execution_count": 19,
   "metadata": {},
   "outputs": [],
   "source": [
    "df_models = pd.DataFrame(clauses_per_model)"
   ]
  },
  {
   "cell_type": "markdown",
   "metadata": {},
   "source": [
    "### Création de la matrice de distance"
   ]
  },
  {
   "cell_type": "code",
   "execution_count": 22,
   "metadata": {},
   "outputs": [],
   "source": [
    "dissimilarity_matrix = np.zeros((1000,1000))\n",
    "\n",
    "for i in range(0,1000):\n",
    "    for j in range(i+1,1000):\n",
    "        distance = 0\n",
    "        for node in dico.keys():\n",
    "            if df_models.loc[i,node] != df_models.loc[j,node]:\n",
    "                distance += 1\n",
    "        dissimilarity_matrix[i,j] = distance\n",
    "        dissimilarity_matrix[j,i] = distance"
   ]
  },
  {
   "cell_type": "markdown",
   "metadata": {},
   "source": [
    "Si besoin :"
   ]
  },
  {
   "cell_type": "code",
   "execution_count": null,
   "metadata": {},
   "outputs": [],
   "source": [
    "# sauvegarde de la matrice de similarité :\n",
    "import pickle\n",
    "with open('data/analysis/dissimilarity_matrix_1000.binary', 'wb') as f:\n",
    "    pickle.dump(dissimilarity_matrix, f)"
   ]
  },
  {
   "cell_type": "code",
   "execution_count": null,
   "metadata": {},
   "outputs": [],
   "source": [
    "# récupération de la matrice de similarité :\n",
    "import pickle\n",
    "with open('dissimilarity_matrix_1000.binary', 'rb') as f:\n",
    "    dissimilarity_matrix = pickle.load(f)"
   ]
  },
  {
   "cell_type": "markdown",
   "metadata": {},
   "source": [
    "### MDS 2D"
   ]
  },
  {
   "cell_type": "markdown",
   "metadata": {},
   "source": [
    "**Grande majorité des graines aléatoires : 3 clusters.**  \n",
    "Exemple ici avec la graine 10 : "
   ]
  },
  {
   "cell_type": "code",
   "execution_count": null,
   "metadata": {},
   "outputs": [],
   "source": [
    "mds = manifold.MDS(\n",
    "    dissimilarity=\"precomputed\", \n",
    "    random_state=10 #3 pour 250\n",
    ")\n",
    "npos = mds.fit_transform(dissimilarity_matrix)\n",
    "\n",
    "f = plt.figure(figsize=(10, 10))\n",
    "ax = sns.scatterplot(x=npos[:, 0], y=npos[:, 1])"
   ]
  },
  {
   "cell_type": "markdown",
   "metadata": {},
   "source": [
    "**Les graines aboutissant à 4 clusters divisent constamment le même cluster, mais de façon instable (ce ne sont pas constamment les mêmes modèles qui sont séparés).**  \n",
    "Exemple ici avec la graine 12 :"
   ]
  },
  {
   "cell_type": "code",
   "execution_count": null,
   "metadata": {},
   "outputs": [],
   "source": [
    "mds_4c = manifold.MDS(\n",
    "    dissimilarity=\"precomputed\", \n",
    "    random_state=12  #,n_jobs=-1 : pour calculer en utilisant tous les cœurs.\n",
    ") \n",
    "npos_4c = mds_4c.fit_transform(dissimilarity_matrix)\n",
    "\n",
    "f = plt.figure(figsize=(10, 10))\n",
    "ax = sns.scatterplot(x=npos_4c[:, 0], y=npos_4c[:, 1])"
   ]
  },
  {
   "cell_type": "markdown",
   "metadata": {},
   "source": [
    "### MDS 3D\n",
    "ne permet pas d'affiner le clustering par rapport au 2D"
   ]
  },
  {
   "cell_type": "code",
   "execution_count": null,
   "metadata": {},
   "outputs": [],
   "source": [
    "mds_3D = manifold.MDS(\n",
    "    n_components=3,\n",
    "    dissimilarity=\"precomputed\"\n",
    ")\n",
    "npos_3D = mds_3D.fit_transform(dissimilarity_matrix)\n",
    "\n",
    "fig = plt.figure()\n",
    "ax = fig.add_subplot(projection='3d')\n",
    "xs = npos_3D[:, 0]\n",
    "ys = npos_3D[:, 1]\n",
    "zs = npos_3D[:, 2]\n",
    "ax.scatter(xs, ys, zs)"
   ]
  },
  {
   "cell_type": "markdown",
   "metadata": {},
   "source": [
    "### Analyse du MDS 2D, 3 clusters :"
   ]
  },
  {
   "cell_type": "markdown",
   "metadata": {},
   "source": [
    "Position des différents clusters dans le graphe 2D:\n",
    "* $y < 2$\n",
    "* $x < 0, y > 15$\n",
    "* $x > 5$\n",
    "\n",
    "#### 1) Plot : mise en évidence des clusters par des couleurs différentes."
   ]
  },
  {
   "cell_type": "code",
   "execution_count": null,
   "metadata": {},
   "outputs": [],
   "source": [
    "# Je crée un vecteur de booléen pour savoir si le modèle i est dans le cluster0 ou non.\n",
    "cluster0_x = npos[:,0] < 0\n",
    "cluster0_y = npos[:,1] > 15\n",
    "cluster0 = cluster0_x & cluster0_y\n",
    "\n",
    "cluster0_indices = list()\n",
    "for i in range(0,npos.shape[0]):\n",
    "    if cluster0[i]:\n",
    "        cluster0_indices.append(i)\n",
    "len(cluster0_indices)"
   ]
  },
  {
   "cell_type": "code",
   "execution_count": null,
   "metadata": {},
   "outputs": [],
   "source": [
    "cluster0_indices"
   ]
  },
  {
   "cell_type": "code",
   "execution_count": null,
   "metadata": {},
   "outputs": [],
   "source": [
    "# Je crée un vecteur de booléen pour savoir si le modèle i est dans le cluster1 ou non.\n",
    "cluster1 = npos[:,1] < 2\n",
    "\n",
    "cluster1_indices = list()\n",
    "for i in range(0,npos.shape[0]):\n",
    "    if cluster1[i]:\n",
    "        cluster1_indices.append(i)\n",
    "len(cluster1_indices)"
   ]
  },
  {
   "cell_type": "code",
   "execution_count": null,
   "metadata": {},
   "outputs": [],
   "source": [
    "cluster1_indices"
   ]
  },
  {
   "cell_type": "code",
   "execution_count": null,
   "metadata": {},
   "outputs": [],
   "source": [
    "# Je crée un vecteur de booléen pour savoir si le modèle i est dans le cluster2 ou non.\n",
    "cluster2 = npos[:,0] > 5\n",
    "\n",
    "cluster2_indices = list()\n",
    "for i in range(0,npos.shape[0]):\n",
    "    if cluster2[i]:\n",
    "        cluster2_indices.append(i)\n",
    "len(cluster2_indices)"
   ]
  },
  {
   "cell_type": "code",
   "execution_count": null,
   "metadata": {},
   "outputs": [],
   "source": [
    "cluster2_indices"
   ]
  },
  {
   "cell_type": "code",
   "execution_count": null,
   "metadata": {},
   "outputs": [],
   "source": [
    "# Scatterplot coloré par cluster :\n",
    "\n",
    "categories = list()\n",
    "for i in range(0,250):\n",
    "    if cluster0[i]:\n",
    "        categories.append(0)\n",
    "    elif cluster1[i]:\n",
    "        categories.append(1)\n",
    "    elif cluster2[i]:\n",
    "        categories.append(2)\n",
    "\n",
    "correspondance_couleur = {0:'red', 1:'orange', 2:'green'}\n",
    "\n",
    "f = plt.figure(figsize=(10, 10))\n",
    "ax = sns.scatterplot(x=npos[:, 0], y=npos[:, 1], hue=categories, palette=correspondance_couleur)\n",
    "plt.legend(loc='lower right')"
   ]
  },
  {
   "cell_type": "markdown",
   "metadata": {},
   "source": [
    "**EN COURS**"
   ]
  },
  {
   "cell_type": "code",
   "execution_count": null,
   "metadata": {},
   "outputs": [],
   "source": []
  }
 ],
 "metadata": {
  "kernelspec": {
   "display_name": "Python 3",
   "language": "python",
   "name": "python3"
  },
  "language_info": {
   "codemirror_mode": {
    "name": "ipython",
    "version": 3
   },
   "file_extension": ".py",
   "mimetype": "text/x-python",
   "name": "python",
   "nbconvert_exporter": "python",
   "pygments_lexer": "ipython3",
   "version": "3.8.10"
  }
 },
 "nbformat": 4,
 "nbformat_minor": 4
}
