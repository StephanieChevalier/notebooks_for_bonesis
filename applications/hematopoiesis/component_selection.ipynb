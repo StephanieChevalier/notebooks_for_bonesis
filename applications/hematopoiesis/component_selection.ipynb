{
 "cells": [
  {
   "cell_type": "markdown",
   "metadata": {},
   "source": [
    "# First step of the hematopoiesis application.\n",
    "\n",
    "---------\n",
    "\n",
    "## Table of content\n",
    "\n",
    "[**Data preprocessing**](#datapreprocess)\n",
    "1. [Import the observations built from single-cell data.](#import)\n",
    "2. [Standardize the observations gene names.](#standardobs)\n",
    "3. [Get interaction graph from DoRothEA database.](#dorothea)\n",
    "4. [Standardize the interaction graph gene names.](#standarddorothea)\n",
    "5. [Eliminate genes with both no influence on others into the interaction graph and no expression value into the single-cell data.](#clean)  \n",
    "\n",
    "[**Use of BoNesis for selection of components**](#bonesis)\n",
    "\n",
    "---------"
   ]
  },
  {
   "cell_type": "markdown",
   "metadata": {},
   "source": [
    "## Data preprocessing <a class=\"anchor\" id=\"datapreprocess\"></a>"
   ]
  },
  {
   "cell_type": "markdown",
   "metadata": {},
   "source": [
    "### 1. Import the observations built from single-cell data: <a class=\"anchor\" id=\"import\"></a>"
   ]
  },
  {
   "cell_type": "code",
   "execution_count": 1,
   "metadata": {},
   "outputs": [],
   "source": [
    "import pandas as pd\n",
    "import numpy as np"
   ]
  },
  {
   "cell_type": "code",
   "execution_count": 2,
   "metadata": {},
   "outputs": [],
   "source": [
    "df_nesto = pd.read_csv(\"data/nestorowa_binarizedObservations.csv\", sep=\",\", index_col=[0])"
   ]
  },
  {
   "cell_type": "code",
   "execution_count": 3,
   "metadata": {},
   "outputs": [
    {
     "data": {
      "text/html": [
       "<div>\n",
       "<style scoped>\n",
       "    .dataframe tbody tr th:only-of-type {\n",
       "        vertical-align: middle;\n",
       "    }\n",
       "\n",
       "    .dataframe tbody tr th {\n",
       "        vertical-align: top;\n",
       "    }\n",
       "\n",
       "    .dataframe thead th {\n",
       "        text-align: right;\n",
       "    }\n",
       "</style>\n",
       "<table border=\"1\" class=\"dataframe\">\n",
       "  <thead>\n",
       "    <tr style=\"text-align: right;\">\n",
       "      <th></th>\n",
       "      <th>1110008L16Rik</th>\n",
       "      <th>1110059E24Rik</th>\n",
       "      <th>1200007C13Rik</th>\n",
       "      <th>1300017J02Rik</th>\n",
       "      <th>1500005C15Rik</th>\n",
       "      <th>1600014C10Rik</th>\n",
       "      <th>1600020E01Rik</th>\n",
       "      <th>1700006J14Rik</th>\n",
       "      <th>1700017B05Rik</th>\n",
       "      <th>1700024P16Rik</th>\n",
       "      <th>...</th>\n",
       "      <th>Zscan21</th>\n",
       "      <th>Zscan22</th>\n",
       "      <th>Zscan29</th>\n",
       "      <th>Zswim3</th>\n",
       "      <th>Zswim4</th>\n",
       "      <th>Zufsp</th>\n",
       "      <th>Zxdb</th>\n",
       "      <th>Zxdc</th>\n",
       "      <th>Zyx</th>\n",
       "      <th>Zzz3</th>\n",
       "    </tr>\n",
       "  </thead>\n",
       "  <tbody>\n",
       "    <tr>\n",
       "      <th>S1</th>\n",
       "      <td>0</td>\n",
       "      <td>0</td>\n",
       "      <td>NaN</td>\n",
       "      <td>NaN</td>\n",
       "      <td>NaN</td>\n",
       "      <td>0</td>\n",
       "      <td>0</td>\n",
       "      <td>0</td>\n",
       "      <td>0</td>\n",
       "      <td>NaN</td>\n",
       "      <td>...</td>\n",
       "      <td>0</td>\n",
       "      <td>0</td>\n",
       "      <td>0</td>\n",
       "      <td>NaN</td>\n",
       "      <td>NaN</td>\n",
       "      <td>0</td>\n",
       "      <td>NaN</td>\n",
       "      <td>NaN</td>\n",
       "      <td>1</td>\n",
       "      <td>0</td>\n",
       "    </tr>\n",
       "    <tr>\n",
       "      <th>S4</th>\n",
       "      <td>0</td>\n",
       "      <td>1</td>\n",
       "      <td>NaN</td>\n",
       "      <td>NaN</td>\n",
       "      <td>NaN</td>\n",
       "      <td>1</td>\n",
       "      <td>0</td>\n",
       "      <td>0</td>\n",
       "      <td>0</td>\n",
       "      <td>NaN</td>\n",
       "      <td>...</td>\n",
       "      <td>0</td>\n",
       "      <td>0</td>\n",
       "      <td>0</td>\n",
       "      <td>NaN</td>\n",
       "      <td>NaN</td>\n",
       "      <td>0</td>\n",
       "      <td>NaN</td>\n",
       "      <td>NaN</td>\n",
       "      <td>1</td>\n",
       "      <td>0</td>\n",
       "    </tr>\n",
       "    <tr>\n",
       "      <th>S0</th>\n",
       "      <td>0</td>\n",
       "      <td>1</td>\n",
       "      <td>NaN</td>\n",
       "      <td>NaN</td>\n",
       "      <td>NaN</td>\n",
       "      <td>0</td>\n",
       "      <td>0</td>\n",
       "      <td>0</td>\n",
       "      <td>0</td>\n",
       "      <td>NaN</td>\n",
       "      <td>...</td>\n",
       "      <td>0</td>\n",
       "      <td>0</td>\n",
       "      <td>0</td>\n",
       "      <td>NaN</td>\n",
       "      <td>NaN</td>\n",
       "      <td>0</td>\n",
       "      <td>NaN</td>\n",
       "      <td>NaN</td>\n",
       "      <td>1</td>\n",
       "      <td>0</td>\n",
       "    </tr>\n",
       "    <tr>\n",
       "      <th>S2</th>\n",
       "      <td>0</td>\n",
       "      <td>0</td>\n",
       "      <td>NaN</td>\n",
       "      <td>NaN</td>\n",
       "      <td>NaN</td>\n",
       "      <td>1</td>\n",
       "      <td>1</td>\n",
       "      <td>0</td>\n",
       "      <td>0</td>\n",
       "      <td>NaN</td>\n",
       "      <td>...</td>\n",
       "      <td>0</td>\n",
       "      <td>0</td>\n",
       "      <td>0</td>\n",
       "      <td>NaN</td>\n",
       "      <td>NaN</td>\n",
       "      <td>0</td>\n",
       "      <td>NaN</td>\n",
       "      <td>NaN</td>\n",
       "      <td>1</td>\n",
       "      <td>0</td>\n",
       "    </tr>\n",
       "    <tr>\n",
       "      <th>S5</th>\n",
       "      <td>0</td>\n",
       "      <td>0</td>\n",
       "      <td>NaN</td>\n",
       "      <td>NaN</td>\n",
       "      <td>NaN</td>\n",
       "      <td>0</td>\n",
       "      <td>0</td>\n",
       "      <td>1</td>\n",
       "      <td>0</td>\n",
       "      <td>NaN</td>\n",
       "      <td>...</td>\n",
       "      <td>0</td>\n",
       "      <td>0</td>\n",
       "      <td>0</td>\n",
       "      <td>NaN</td>\n",
       "      <td>NaN</td>\n",
       "      <td>0</td>\n",
       "      <td>NaN</td>\n",
       "      <td>NaN</td>\n",
       "      <td>1</td>\n",
       "      <td>0</td>\n",
       "    </tr>\n",
       "    <tr>\n",
       "      <th>S3</th>\n",
       "      <td>0</td>\n",
       "      <td>0</td>\n",
       "      <td>NaN</td>\n",
       "      <td>NaN</td>\n",
       "      <td>NaN</td>\n",
       "      <td>0</td>\n",
       "      <td>0</td>\n",
       "      <td>0</td>\n",
       "      <td>1</td>\n",
       "      <td>NaN</td>\n",
       "      <td>...</td>\n",
       "      <td>0</td>\n",
       "      <td>0</td>\n",
       "      <td>0</td>\n",
       "      <td>NaN</td>\n",
       "      <td>NaN</td>\n",
       "      <td>0</td>\n",
       "      <td>NaN</td>\n",
       "      <td>NaN</td>\n",
       "      <td>1</td>\n",
       "      <td>1</td>\n",
       "    </tr>\n",
       "  </tbody>\n",
       "</table>\n",
       "<p>6 rows × 4768 columns</p>\n",
       "</div>"
      ],
      "text/plain": [
       "    1110008L16Rik  1110059E24Rik  1200007C13Rik  1300017J02Rik  1500005C15Rik  \\\n",
       "S1              0              0            NaN            NaN            NaN   \n",
       "S4              0              1            NaN            NaN            NaN   \n",
       "S0              0              1            NaN            NaN            NaN   \n",
       "S2              0              0            NaN            NaN            NaN   \n",
       "S5              0              0            NaN            NaN            NaN   \n",
       "S3              0              0            NaN            NaN            NaN   \n",
       "\n",
       "    1600014C10Rik  1600020E01Rik  1700006J14Rik  1700017B05Rik  1700024P16Rik  \\\n",
       "S1              0              0              0              0            NaN   \n",
       "S4              1              0              0              0            NaN   \n",
       "S0              0              0              0              0            NaN   \n",
       "S2              1              1              0              0            NaN   \n",
       "S5              0              0              1              0            NaN   \n",
       "S3              0              0              0              1            NaN   \n",
       "\n",
       "    ...  Zscan21  Zscan22  Zscan29  Zswim3  Zswim4  Zufsp  Zxdb  Zxdc  Zyx  \\\n",
       "S1  ...        0        0        0     NaN     NaN      0   NaN   NaN    1   \n",
       "S4  ...        0        0        0     NaN     NaN      0   NaN   NaN    1   \n",
       "S0  ...        0        0        0     NaN     NaN      0   NaN   NaN    1   \n",
       "S2  ...        0        0        0     NaN     NaN      0   NaN   NaN    1   \n",
       "S5  ...        0        0        0     NaN     NaN      0   NaN   NaN    1   \n",
       "S3  ...        0        0        0     NaN     NaN      0   NaN   NaN    1   \n",
       "\n",
       "    Zzz3  \n",
       "S1     0  \n",
       "S4     0  \n",
       "S0     0  \n",
       "S2     0  \n",
       "S5     0  \n",
       "S3     1  \n",
       "\n",
       "[6 rows x 4768 columns]"
      ]
     },
     "execution_count": 3,
     "metadata": {},
     "output_type": "execute_result"
    }
   ],
   "source": [
    "df_nesto"
   ]
  },
  {
   "cell_type": "code",
   "execution_count": 4,
   "metadata": {},
   "outputs": [],
   "source": [
    "observations_from_singlecell_nestorowa = df_nesto.to_dict(orient=\"index\")"
   ]
  },
  {
   "cell_type": "code",
   "execution_count": null,
   "metadata": {},
   "outputs": [],
   "source": [
    "observations_from_singlecell_nestorowa"
   ]
  },
  {
   "cell_type": "markdown",
   "metadata": {},
   "source": [
    "### 2. Standardize the observations gene names. <a class=\"anchor\" id=\"standardobs\"></a>"
   ]
  },
  {
   "cell_type": "code",
   "execution_count": 7,
   "metadata": {},
   "outputs": [],
   "source": [
    "import os\n",
    "from typing import List, Set, Dict, Tuple\n",
    "\n",
    "\n",
    "def get_dict_synonyms(path_NCBIgenedata: str) -> Dict:\n",
    "    \"\"\"\n",
    "    Create a dictionary matching each possible gene name to its NCBI symbol.\n",
    "    \n",
    "    Particularity:\n",
    "    Creation of a temporary file for speeding up the task facing a large matrix from NCBI, the parsing of the NCBI gene data is run with awk. A temporary file is then created.\n",
    "    \n",
    "    INPUT\n",
    "        path_NCBIgenedata: path to the NCBI gene data\n",
    "    OUTPUT\n",
    "        dictionary (key: gene name, value: reference gene name (being the NCBI symbol))\n",
    "    \"\"\"\n",
    "    \n",
    "    # Parse the downloaded NCBI gene data:\n",
    "    path_NCBIgenedata_cut = f\"{path_NCBIgenedata}_cut\"\n",
    "    command_parsing = \"awk -F'\\t' '{print $3 \\\"\\t\\\" $5 \\\"\\t\\\" $11}' \" + path_NCBIgenedata + \" | tr \\| '\\t' > \" + path_NCBIgenedata_cut + \" ; sed -i 1d \" + path_NCBIgenedata_cut\n",
    "    os.system(command_parsing)\n",
    "    \n",
    "    # Extract gene data information:    \n",
    "    gene_synonyms_dict = dict()\n",
    "    symbols = set()\n",
    "\n",
    "    with open (path_NCBIgenedata_cut, \"r\") as file_synonyms:\n",
    "        for gene in file_synonyms:\n",
    "            gene = gene.strip().upper()\n",
    "            gene_symbols_list = gene.split(\"\\t\")\n",
    "            #extract reference gene symbol:\n",
    "            ncbi_symbol = gene_symbols_list.pop(0)\n",
    "            #delete non-informative synonyms:\n",
    "            res = [syn for syn in gene_symbols_list if (syn != \"-\" and syn != ncbi_symbol)]\n",
    "\n",
    "            #create the dictionnary matching each symbol to its reference gene symbol (NCBI symbol):\n",
    "            gene_synonyms_dict[ncbi_symbol] = ncbi_symbol\n",
    "            symbols.add(ncbi_symbol)\n",
    "\n",
    "            for gene in res:\n",
    "                if gene not in symbols:\n",
    "                    # Warning with NCBI list of synonyms:\n",
    "                    # A noun can be the synonym of several symbols.\n",
    "                    # Arbitrary, the choosen one is the first.\n",
    "                    gene_synonyms_dict[gene] = ncbi_symbol\n",
    "                    \n",
    "    os.system(f\"rm {path_NCBIgenedata_cut}\")\n",
    "    return gene_synonyms_dict\n",
    "\n",
    "\n",
    "def get_reference_gene_name(gene_name: str, dict_synonyms: dict) -> str:\n",
    "    \"\"\"\n",
    "    Given a gene name, return its reference name.\n",
    "    INPUT\n",
    "        dict_synonyms\n",
    "        gene_name: the gene name you want its reference name\n",
    "    OUTPUT\n",
    "        the synonym considered as the reference name\n",
    "    \"\"\"\n",
    "    gene_name = gene_name.upper()\n",
    "    if gene_name in dict_synonyms:\n",
    "        return dict_synonyms[gene_name]\n",
    "    return gene_name"
   ]
  },
  {
   "cell_type": "code",
   "execution_count": 8,
   "metadata": {},
   "outputs": [],
   "source": [
    "def standardize_genename_in_dict_of_observations(observations_dict: Dict, path_NCBIgenedata: str) -> Dict:\n",
    "    \"\"\"\n",
    "    Create a copy of the input dict of observations, with each gene name replaced by its reference name (NCBI symbol).\n",
    "    \n",
    "    Require the following functions:\n",
    "        get_dict_synonyms\n",
    "        get_reference_gene_name\n",
    "        \n",
    "    INPUT\n",
    "        observations_dict: dict (key = observation identifier, value = dict (key = genename, value = gene status))\n",
    "        path_NCBIgenedata: path to the NCBI gene data\n",
    "    OUTPUT\n",
    "        dict (key = observation identifier, value = dict (key = reference genename, value = gene status))\n",
    "    \"\"\"\n",
    "    \n",
    "    # Get gene data information:\n",
    "    gene_synonyms_dict = get_dict_synonyms(path_NCBIgenedata)\n",
    "    \n",
    "    # Copy the dict of observations by replacing each genename by its reference genename (NCBI symbol) into it:\n",
    "    standardized_observations_dict = dict()\n",
    "    \n",
    "    for k,v in observations_dict.items():\n",
    "        standardized_observations_dict[k] = dict()\n",
    "        for component, status in v.items():\n",
    "            standardized_component = get_reference_gene_name(component, gene_synonyms_dict)\n",
    "            standardized_observations_dict[k][standardized_component] = status\n",
    "    \n",
    "    return standardized_observations_dict"
   ]
  },
  {
   "cell_type": "code",
   "execution_count": 9,
   "metadata": {},
   "outputs": [],
   "source": [
    "# Copy the dict of observations by replacing each gene name by its NCBI symbol:\n",
    "standardized_observations_from_singlecell_nestorowa = standardize_genename_in_dict_of_observations(observations_from_singlecell_nestorowa, \"data/Mus_musculus.gene_info.20221005.tsv\")"
   ]
  },
  {
   "cell_type": "code",
   "execution_count": 10,
   "metadata": {},
   "outputs": [
    {
     "data": {
      "text/html": [
       "<div>\n",
       "<style scoped>\n",
       "    .dataframe tbody tr th:only-of-type {\n",
       "        vertical-align: middle;\n",
       "    }\n",
       "\n",
       "    .dataframe tbody tr th {\n",
       "        vertical-align: top;\n",
       "    }\n",
       "\n",
       "    .dataframe thead th {\n",
       "        text-align: right;\n",
       "    }\n",
       "</style>\n",
       "<table border=\"1\" class=\"dataframe\">\n",
       "  <thead>\n",
       "    <tr style=\"text-align: right;\">\n",
       "      <th></th>\n",
       "      <th>PRORP</th>\n",
       "      <th>1110059E24RIK</th>\n",
       "      <th>1200007C13RIK</th>\n",
       "      <th>INHCA</th>\n",
       "      <th>1500005C15RIK</th>\n",
       "      <th>1600014C10RIK</th>\n",
       "      <th>1600020E01RIK</th>\n",
       "      <th>1700006J14RIK</th>\n",
       "      <th>1700017B05RIK</th>\n",
       "      <th>FYB2</th>\n",
       "      <th>...</th>\n",
       "      <th>ZSCAN21</th>\n",
       "      <th>ZSCAN22</th>\n",
       "      <th>ZSCAN29</th>\n",
       "      <th>ZSWIM3</th>\n",
       "      <th>ZSWIM4</th>\n",
       "      <th>ZUP1</th>\n",
       "      <th>ZXDB</th>\n",
       "      <th>ZXDC</th>\n",
       "      <th>ZYX</th>\n",
       "      <th>ZZZ3</th>\n",
       "    </tr>\n",
       "  </thead>\n",
       "  <tbody>\n",
       "    <tr>\n",
       "      <th>S1</th>\n",
       "      <td>0</td>\n",
       "      <td>0</td>\n",
       "      <td></td>\n",
       "      <td></td>\n",
       "      <td></td>\n",
       "      <td>0</td>\n",
       "      <td>0</td>\n",
       "      <td>0</td>\n",
       "      <td>0</td>\n",
       "      <td></td>\n",
       "      <td>...</td>\n",
       "      <td>0</td>\n",
       "      <td>0</td>\n",
       "      <td>0</td>\n",
       "      <td></td>\n",
       "      <td></td>\n",
       "      <td>0</td>\n",
       "      <td></td>\n",
       "      <td></td>\n",
       "      <td>1</td>\n",
       "      <td>0</td>\n",
       "    </tr>\n",
       "    <tr>\n",
       "      <th>S4</th>\n",
       "      <td>0</td>\n",
       "      <td>1</td>\n",
       "      <td></td>\n",
       "      <td></td>\n",
       "      <td></td>\n",
       "      <td>1</td>\n",
       "      <td>0</td>\n",
       "      <td>0</td>\n",
       "      <td>0</td>\n",
       "      <td></td>\n",
       "      <td>...</td>\n",
       "      <td>0</td>\n",
       "      <td>0</td>\n",
       "      <td>0</td>\n",
       "      <td></td>\n",
       "      <td></td>\n",
       "      <td>0</td>\n",
       "      <td></td>\n",
       "      <td></td>\n",
       "      <td>1</td>\n",
       "      <td>0</td>\n",
       "    </tr>\n",
       "    <tr>\n",
       "      <th>S0</th>\n",
       "      <td>0</td>\n",
       "      <td>1</td>\n",
       "      <td></td>\n",
       "      <td></td>\n",
       "      <td></td>\n",
       "      <td>0</td>\n",
       "      <td>0</td>\n",
       "      <td>0</td>\n",
       "      <td>0</td>\n",
       "      <td></td>\n",
       "      <td>...</td>\n",
       "      <td>0</td>\n",
       "      <td>0</td>\n",
       "      <td>0</td>\n",
       "      <td></td>\n",
       "      <td></td>\n",
       "      <td>0</td>\n",
       "      <td></td>\n",
       "      <td></td>\n",
       "      <td>1</td>\n",
       "      <td>0</td>\n",
       "    </tr>\n",
       "    <tr>\n",
       "      <th>S2</th>\n",
       "      <td>0</td>\n",
       "      <td>0</td>\n",
       "      <td></td>\n",
       "      <td></td>\n",
       "      <td></td>\n",
       "      <td>1</td>\n",
       "      <td>1</td>\n",
       "      <td>0</td>\n",
       "      <td>0</td>\n",
       "      <td></td>\n",
       "      <td>...</td>\n",
       "      <td>0</td>\n",
       "      <td>0</td>\n",
       "      <td>0</td>\n",
       "      <td></td>\n",
       "      <td></td>\n",
       "      <td>0</td>\n",
       "      <td></td>\n",
       "      <td></td>\n",
       "      <td>1</td>\n",
       "      <td>0</td>\n",
       "    </tr>\n",
       "    <tr>\n",
       "      <th>S5</th>\n",
       "      <td>0</td>\n",
       "      <td>0</td>\n",
       "      <td></td>\n",
       "      <td></td>\n",
       "      <td></td>\n",
       "      <td>0</td>\n",
       "      <td>0</td>\n",
       "      <td>1</td>\n",
       "      <td>0</td>\n",
       "      <td></td>\n",
       "      <td>...</td>\n",
       "      <td>0</td>\n",
       "      <td>0</td>\n",
       "      <td>0</td>\n",
       "      <td></td>\n",
       "      <td></td>\n",
       "      <td>0</td>\n",
       "      <td></td>\n",
       "      <td></td>\n",
       "      <td>1</td>\n",
       "      <td>0</td>\n",
       "    </tr>\n",
       "    <tr>\n",
       "      <th>S3</th>\n",
       "      <td>0</td>\n",
       "      <td>0</td>\n",
       "      <td></td>\n",
       "      <td></td>\n",
       "      <td></td>\n",
       "      <td>0</td>\n",
       "      <td>0</td>\n",
       "      <td>0</td>\n",
       "      <td>1</td>\n",
       "      <td></td>\n",
       "      <td>...</td>\n",
       "      <td>0</td>\n",
       "      <td>0</td>\n",
       "      <td>0</td>\n",
       "      <td></td>\n",
       "      <td></td>\n",
       "      <td>0</td>\n",
       "      <td></td>\n",
       "      <td></td>\n",
       "      <td>1</td>\n",
       "      <td>1</td>\n",
       "    </tr>\n",
       "  </tbody>\n",
       "</table>\n",
       "<p>6 rows × 4768 columns</p>\n",
       "</div>"
      ],
      "text/plain": [
       "    PRORP  1110059E24RIK 1200007C13RIK INHCA 1500005C15RIK  1600014C10RIK  \\\n",
       "S1      0              0                                                0   \n",
       "S4      0              1                                                1   \n",
       "S0      0              1                                                0   \n",
       "S2      0              0                                                1   \n",
       "S5      0              0                                                0   \n",
       "S3      0              0                                                0   \n",
       "\n",
       "    1600020E01RIK  1700006J14RIK  1700017B05RIK FYB2  ... ZSCAN21 ZSCAN22  \\\n",
       "S1              0              0              0       ...       0       0   \n",
       "S4              0              0              0       ...       0       0   \n",
       "S0              0              0              0       ...       0       0   \n",
       "S2              1              0              0       ...       0       0   \n",
       "S5              0              1              0       ...       0       0   \n",
       "S3              0              0              1       ...       0       0   \n",
       "\n",
       "    ZSCAN29 ZSWIM3 ZSWIM4 ZUP1 ZXDB ZXDC ZYX  ZZZ3  \n",
       "S1        0                  0             1     0  \n",
       "S4        0                  0             1     0  \n",
       "S0        0                  0             1     0  \n",
       "S2        0                  0             1     0  \n",
       "S5        0                  0             1     0  \n",
       "S3        0                  0             1     1  \n",
       "\n",
       "[6 rows x 4768 columns]"
      ]
     },
     "execution_count": 10,
     "metadata": {},
     "output_type": "execute_result"
    }
   ],
   "source": [
    "# Visualisation of the matrix with standardized gene names:\n",
    "df_standardized = pd.DataFrame.from_dict(standardized_observations_from_singlecell_nestorowa, orient=\"index\").fillna('')\n",
    "df_standardized"
   ]
  },
  {
   "cell_type": "code",
   "execution_count": 11,
   "metadata": {},
   "outputs": [],
   "source": [
    "# Set of the genes in this single-cell dataset:\n",
    "standardized_genenames_in_singlecell = set(df_standardized)"
   ]
  },
  {
   "cell_type": "markdown",
   "metadata": {},
   "source": [
    "### 3. Get interaction graph from DoRothEA database. <a class=\"anchor\" id=\"dorothea\"></a>"
   ]
  },
  {
   "cell_type": "code",
   "execution_count": 12,
   "metadata": {},
   "outputs": [],
   "source": [
    "import os\n",
    "import datetime\n",
    "\n",
    "def dorothea_extraction(organism: str=\"human\", confidence: str=\"AB\", directory_output: str=\"./\"):\n",
    "    ''' Store in a SIF file the subnetwork from DoRothEA database about mus musculus given the confidence on edges.\n",
    "    INPUT\n",
    "        organism: string that can be human or mouse\n",
    "        confidence: string in the set A, AB (default), ABC, ABCD, ABCDE\n",
    "        output directory: the current one by default\n",
    "    OUTPUT\n",
    "        SIF file in the directory_output, under the format \"YYYY-MM-DD_dorotheaX.sif\" with X the confidence given in argument\n",
    "    '''\n",
    "    \n",
    "    assert organism == 'human' or organism == 'mouse', f\"organism must be human or mouse\"\n",
    "    \n",
    "    date = datetime.datetime.now()\n",
    "    \n",
    "    import rpy2.robjects as robjects\n",
    "    import rpy2.robjects.packages as rpackages\n",
    "\n",
    "    if confidence == \"A\":\n",
    "        confidenceR = '\"A\"'\n",
    "    elif confidence == \"AB\":\n",
    "        confidenceR = '\"A\",\"B\"'\n",
    "    elif confidence == \"ABC\":\n",
    "        confidenceR = '\"A\",\"B\",\"C\"'\n",
    "    elif confidence == \"ABCD\":\n",
    "        confidenceR = '\"A\",\"B\",\"C\",\"D\"'\n",
    "    elif confidence == \"ABCDE\":\n",
    "        confidenceR = '\"A\",\"B\",\"C\",\"D\",\"E\"'\n",
    "    else:\n",
    "        raise InputError(\"Incorrect argument: confidence for edges can be A, AB, ABC, ABCD, ABCDE\")\n",
    "\n",
    "    #robjects.r('''\n",
    "    #    if (!requireNamespace(\"BiocManager\", quietly = TRUE))\n",
    "    #        install.packages(\"BiocManager\")\n",
    "    #    BiocManager::install(\"dorothea\")\n",
    "    #''')\n",
    "    \n",
    "    robjects.r('''\n",
    "        library(dorothea)\n",
    "        subset_dth = dorothea_{0}[dorothea_{0}$confidence %in% c({1}), ]\n",
    "        '''.format('hs' if organism=='human' else 'mm', confidenceR))\n",
    "    robjects.r('''\n",
    "        df = data.frame(source = subset_dth$tf,\n",
    "                        sign = subset_dth$mor,\n",
    "                        target = subset_dth$target)\n",
    "        write.table(df, file=\"{0}dorothea{2}_{3}_{1}.sif\", sep = \"\\t\", col.names = FALSE, row.names = FALSE, quote = FALSE)\n",
    "        '''.format(directory_output, date.strftime(\"%Y%m%d\"), confidence, organism))"
   ]
  },
  {
   "cell_type": "code",
   "execution_count": 13,
   "metadata": {},
   "outputs": [],
   "source": [
    "dorothea_extraction(organism=\"mouse\", confidence=\"ABC\")"
   ]
  },
  {
   "cell_type": "markdown",
   "metadata": {},
   "source": [
    "### 4. Standardize the interaction graph gene names. <a class=\"anchor\" id=\"standarddorothea\"></a>"
   ]
  },
  {
   "cell_type": "code",
   "execution_count": 15,
   "metadata": {},
   "outputs": [],
   "source": [
    "def standardize_genename_in_file(path_input: str, path_NCBIgenedata: str, columns_to_standardize: List or Set[str] = [0], sep = \"\\t\"):\n",
    "    \"\"\"\n",
    "    Create a copy of the input file, with each gene name replaced by its reference (NCBI symbol) in the column precised in argument.\n",
    "    \n",
    "    Require the following functions:\n",
    "        get_dict_synonyms\n",
    "        get_reference_gene_name\n",
    "       \n",
    "    INPUT\n",
    "        path_input: path to the input file in which the names must be standardized.\n",
    "        path_NCBIgenedata: path to the NCBI gene data.\n",
    "        columns_to_standardize : the columns containing gene names we want to standardize. Columns must start at index 0.\n",
    "        sep: the field separator into the input SIF file (the gene data file provided by NCBI is a TSV).\n",
    "    OUTPUT\n",
    "        copy of the input file but with each gene into the columns_to_standardize named by its reference gene name (capitalized NCBI symbol). Named as the input file with at its end the extension \"_reference-gene-names\".\n",
    "    \"\"\"\n",
    "    \n",
    "    # Get gene data information:\n",
    "    gene_synonyms_dict = get_dict_synonyms(path_NCBIgenedata)\n",
    "    \n",
    "    # Replace gene name with reference gene name into the columns_to_standardize of the input file:\n",
    "    cols_check = set() #put all elements of columns_to_standardize in a set for complexity \n",
    "    for c in columns_to_standardize:\n",
    "        cols_check.add(c)\n",
    "    \n",
    "    with open(path_input, \"r\") as inputfile:\n",
    "        to_write = []\n",
    "        for ligne in inputfile.read().split(\"\\n\"):\n",
    "            if len(ligne) > 1:\n",
    "                cols = ligne.split(sep)\n",
    "                ligne_output = \"\"\n",
    "                id_col = 0\n",
    "                for col in cols[:-1]:\n",
    "                    if id_col in cols_check:\n",
    "                        ligne_output += get_reference_gene_name(col, gene_synonyms_dict) + sep\n",
    "                    else:\n",
    "                        ligne_output += col + sep\n",
    "                    id_col += 1\n",
    "                if id_col in cols_check:\n",
    "                    ligne_output += get_reference_gene_name(cols[-1], gene_synonyms_dict)\n",
    "                else:\n",
    "                    ligne_output += cols[-1]\n",
    "                ligne_output += \"\\n\"\n",
    "                to_write.append(ligne_output)\n",
    "    \n",
    "    with open(f\"{path_input}_reference-gene-names\", \"x\") as outputfile:\n",
    "        for ligne in to_write:\n",
    "            outputfile.write(ligne)"
   ]
  },
  {
   "cell_type": "code",
   "execution_count": 16,
   "metadata": {},
   "outputs": [],
   "source": [
    "# Copy of 2022-XX-XX_dorotheaABC_mouse.sif by replacing each genename with its NCBI symbol\n",
    "standardize_genename_in_file(\"dorotheaABC_mouse_20221129.sif\", \"data/Mus_musculus.gene_info.20221005.tsv\", (0,2), \"\\t\")"
   ]
  },
  {
   "cell_type": "markdown",
   "metadata": {},
   "source": [
    "### 5. Eliminate genes with both no influence on others into the interaction graph and no expression value into the single-cell data. <a class=\"anchor\" id=\"clean\"></a>"
   ]
  },
  {
   "cell_type": "code",
   "execution_count": 17,
   "metadata": {},
   "outputs": [],
   "source": [
    "sources = set()  #stores the sources of edges\n",
    "targets = set()  #stored the targets of edges\n",
    "with open(\"dorotheaABC_mouse_20221129.sif_reference-gene-names\", \"r\") as f:\n",
    "    for edge in f:\n",
    "        edge = edge.strip().split()\n",
    "        sources.add(edge[0])\n",
    "        targets.add(edge[2])"
   ]
  },
  {
   "cell_type": "code",
   "execution_count": 18,
   "metadata": {},
   "outputs": [
    {
     "name": "stdout",
     "output_type": "stream",
     "text": [
      "TF 'source' which are also 'targets': 202\n",
      "Number of TF with expression value in the single-cell dataset: 79\n",
      "Number of TF 'targets' with expression value in the single-cell dataset: 63\n"
     ]
    }
   ],
   "source": [
    "tf_tf_interactions = sources.intersection(targets)  #Which targets are also sources?\n",
    "\n",
    "print(f\"TF 'source' which are also 'targets': {len(tf_tf_interactions)}\\n\\\n",
    "Number of TF with expression value in the single-cell dataset: {len(sources.intersection(standardized_genenames_in_singlecell))}\\n\\\n",
    "Number of TF 'targets' with expression value in the single-cell dataset: {len(tf_tf_interactions.intersection(standardized_genenames_in_singlecell))}\")"
   ]
  },
  {
   "cell_type": "code",
   "execution_count": 19,
   "metadata": {},
   "outputs": [],
   "source": [
    "with open(\"dorotheaABC_mouse_20221129.sif_reference-gene-names\", \"r\") as f_in:\n",
    "    with open(\"data/standardized_dorothea_20221129.sif\", \"w\") as f_out:\n",
    "        # In path_fichier_noms_NCBI, a line = an edge.\n",
    "        # A line is written in the output file if:\n",
    "        # the edge source is a target of at least one edge\n",
    "        # the edge target is a source of at least one edge or belongs to the Nestorowa list of genes\n",
    "        for line in f_in:\n",
    "            edge = line.strip().split()\n",
    "            if edge[2] in tf_tf_interactions or edge[2] in standardized_genenames_in_singlecell:\n",
    "                f_out.write(line)"
   ]
  },
  {
   "cell_type": "code",
   "execution_count": 20,
   "metadata": {},
   "outputs": [
    {
     "name": "stdout",
     "output_type": "stream",
     "text": [
      "TF→TF & TF→Nesto graph: 1717 nodes, 4766 edges\n",
      "1525 nodes observed in Nestorowa dataset\n"
     ]
    }
   ],
   "source": [
    "import networkx as nx\n",
    "\n",
    "df = pd.read_csv(\"data/standardized_dorothea_20221129.sif\", header=None, names=(\"in\", \"sign\", \"out\"), sep=\"\\t\")\n",
    "tf_tf_nesto = nx.from_pandas_edgelist(df, \"in\", \"out\", [\"sign\"], nx.MultiDiGraph())\n",
    "\n",
    "print(f\"TF→TF & TF→Nesto graph: {len(tf_tf_nesto.nodes())} nodes, {len(tf_tf_nesto.edges())} edges\\n\\\n",
    "{len(set(tf_tf_nesto).intersection(standardized_genenames_in_singlecell))} nodes observed in Nestorowa dataset\")"
   ]
  },
  {
   "cell_type": "code",
   "execution_count": 21,
   "metadata": {},
   "outputs": [
    {
     "data": {
      "text/plain": [
       "0"
      ]
     },
     "execution_count": 21,
     "metadata": {},
     "output_type": "execute_result"
    }
   ],
   "source": [
    "import os\n",
    "\n",
    "os.system(\"rm dorotheaABC_mouse_20221129.sif dorotheaABC_mouse_20221129.sif_reference-gene-names\")"
   ]
  },
  {
   "cell_type": "markdown",
   "metadata": {},
   "source": [
    "## Use of BoNesis for selection of components <a class=\"anchor\" id=\"bonesis\"></a>"
   ]
  },
  {
   "cell_type": "code",
   "execution_count": 22,
   "metadata": {},
   "outputs": [],
   "source": [
    "import bonesis"
   ]
  },
  {
   "cell_type": "code",
   "execution_count": 23,
   "metadata": {},
   "outputs": [],
   "source": [
    "standardized_dorothea = bonesis.InfluenceGraph.from_sif(\"data/standardized_dorothea_20221129.sif\", maxclause=8, allow_skipping_nodes=True, canonic=False)"
   ]
  },
  {
   "cell_type": "code",
   "execution_count": 24,
   "metadata": {},
   "outputs": [],
   "source": [
    "bo = bonesis.BoNesis(standardized_dorothea, standardized_observations_from_singlecell_nestorowa)"
   ]
  },
  {
   "cell_type": "code",
   "execution_count": 25,
   "metadata": {},
   "outputs": [
    {
     "name": "stdout",
     "output_type": "stream",
     "text": [
      "domain: 1717 nodes, 4835 edges\n"
     ]
    }
   ],
   "source": [
    "print(f\"domain: {len(standardized_dorothea.nodes())} nodes, {len(standardized_dorothea.edges())} edges\")"
   ]
  },
  {
   "cell_type": "code",
   "execution_count": null,
   "metadata": {},
   "outputs": [],
   "source": [
    "standardized_observations_from_singlecell_nestorowa"
   ]
  },
  {
   "cell_type": "markdown",
   "metadata": {},
   "source": [
    "### Dynamics\n",
    "<img src=\"img/trajectoire.png\" alt=\"nestorowa stream trajectory\" style=\"width:40%;\"/>\n",
    "\n",
    "#### fixpoints"
   ]
  },
  {
   "cell_type": "code",
   "execution_count": 28,
   "metadata": {},
   "outputs": [],
   "source": [
    "s2 = bo.fixed(~bo.obs(\"S2\"))\n",
    "s4 = bo.fixed(~bo.obs(\"S4\"))\n",
    "s5 = bo.fixed(~bo.obs(\"S5\"))\n",
    "s2 != s4\n",
    "s5 != s4\n",
    "s2 != s5;"
   ]
  },
  {
   "cell_type": "markdown",
   "metadata": {},
   "source": [
    "#### positive reachability"
   ]
  },
  {
   "cell_type": "code",
   "execution_count": 29,
   "metadata": {},
   "outputs": [],
   "source": [
    "~bo.obs('S1') >= ~bo.obs('S0') >= s2\n",
    "~bo.obs('S0') >= ~bo.obs('S3') >= s4\n",
    "~bo.obs('S3') >= s5;"
   ]
  },
  {
   "cell_type": "markdown",
   "metadata": {},
   "source": [
    "#### negative reachability"
   ]
  },
  {
   "cell_type": "code",
   "execution_count": 30,
   "metadata": {},
   "outputs": [],
   "source": [
    "~bo.obs(\"S3\") / s2;"
   ]
  },
  {
   "cell_type": "markdown",
   "metadata": {},
   "source": [
    "### Optimization & view"
   ]
  },
  {
   "cell_type": "code",
   "execution_count": 31,
   "metadata": {},
   "outputs": [
    {
     "data": {
      "text/plain": [
       "<bonesis.language.ManagedIface.__init__.<locals>.managed.<locals>.Managed at 0x7fa3ce2c9a00>"
      ]
     },
     "execution_count": 31,
     "metadata": {},
     "output_type": "execute_result"
    }
   ],
   "source": [
    "bo.maximize_nodes()\n",
    "bo.maximize_strong_constants()"
   ]
  },
  {
   "cell_type": "code",
   "execution_count": null,
   "metadata": {},
   "outputs": [],
   "source": [
    "view = bonesis.NonStrongConstantNodesView(bo, mode=\"opt\")"
   ]
  },
  {
   "cell_type": "code",
   "execution_count": null,
   "metadata": {},
   "outputs": [],
   "source": [
    "view.standalone(output_filename=f\"maxnodes_maxstrongconstant.sh\")"
   ]
  },
  {
   "cell_type": "code",
   "execution_count": null,
   "metadata": {},
   "outputs": [],
   "source": []
  }
 ],
 "metadata": {
  "kernelspec": {
   "display_name": "Python 3",
   "language": "python",
   "name": "python3"
  },
  "language_info": {
   "codemirror_mode": {
    "name": "ipython",
    "version": 3
   },
   "file_extension": ".py",
   "mimetype": "text/x-python",
   "name": "python",
   "nbconvert_exporter": "python",
   "pygments_lexer": "ipython3",
   "version": "3.8.10"
  }
 },
 "nbformat": 4,
 "nbformat_minor": 4
}
