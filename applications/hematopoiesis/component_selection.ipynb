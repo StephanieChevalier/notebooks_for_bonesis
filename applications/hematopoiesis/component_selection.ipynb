{
 "cells": [
  {
   "cell_type": "markdown",
   "metadata": {},
   "source": [
    "# First step of the hematopoiesis application.\n",
    "\n",
    "---------\n",
    "\n",
    "## Table of content\n",
    "\n",
    "[**Data preprocessing**](#datapreprocess)\n",
    "1. [Import the observations built from single-cell data.](#import)\n",
    "2. [Standardize the observations' gene names.](#standardobs)\n",
    "3. [Get interaction graph from DoRothEA database.](#dorothea)\n",
    "\n",
    "[**Use of BoNesis for selection of components**](#bonesis)\n",
    "\n",
    "---------"
   ]
  },
  {
   "cell_type": "markdown",
   "metadata": {},
   "source": [
    "## Data preprocessing <a class=\"anchor\" id=\"datapreprocess\"></a>"
   ]
  },
  {
   "cell_type": "markdown",
   "metadata": {},
   "source": [
    "### 1. Import the observations built from single-cell data: <a class=\"anchor\" id=\"import\"></a>"
   ]
  },
  {
   "cell_type": "code",
   "execution_count": 1,
   "metadata": {},
   "outputs": [],
   "source": [
    "import pandas as pd\n",
    "import numpy as np"
   ]
  },
  {
   "cell_type": "code",
   "execution_count": 2,
   "metadata": {},
   "outputs": [],
   "source": [
    "df_nesto = pd.read_csv(\"data/nestorowa_binarizedObservations.csv\", sep=\",\", index_col=[0])"
   ]
  },
  {
   "cell_type": "code",
   "execution_count": 3,
   "metadata": {},
   "outputs": [
    {
     "data": {
      "text/html": [
       "<div>\n",
       "<style scoped>\n",
       "    .dataframe tbody tr th:only-of-type {\n",
       "        vertical-align: middle;\n",
       "    }\n",
       "\n",
       "    .dataframe tbody tr th {\n",
       "        vertical-align: top;\n",
       "    }\n",
       "\n",
       "    .dataframe thead th {\n",
       "        text-align: right;\n",
       "    }\n",
       "</style>\n",
       "<table border=\"1\" class=\"dataframe\">\n",
       "  <thead>\n",
       "    <tr style=\"text-align: right;\">\n",
       "      <th></th>\n",
       "      <th>1110008L16Rik</th>\n",
       "      <th>1110059E24Rik</th>\n",
       "      <th>1200007C13Rik</th>\n",
       "      <th>1300017J02Rik</th>\n",
       "      <th>1500005C15Rik</th>\n",
       "      <th>1600014C10Rik</th>\n",
       "      <th>1600020E01Rik</th>\n",
       "      <th>1700006J14Rik</th>\n",
       "      <th>1700017B05Rik</th>\n",
       "      <th>1700024P16Rik</th>\n",
       "      <th>...</th>\n",
       "      <th>Zscan21</th>\n",
       "      <th>Zscan22</th>\n",
       "      <th>Zscan29</th>\n",
       "      <th>Zswim3</th>\n",
       "      <th>Zswim4</th>\n",
       "      <th>Zufsp</th>\n",
       "      <th>Zxdb</th>\n",
       "      <th>Zxdc</th>\n",
       "      <th>Zyx</th>\n",
       "      <th>Zzz3</th>\n",
       "    </tr>\n",
       "  </thead>\n",
       "  <tbody>\n",
       "    <tr>\n",
       "      <th>S1</th>\n",
       "      <td>0</td>\n",
       "      <td>0</td>\n",
       "      <td>NaN</td>\n",
       "      <td>NaN</td>\n",
       "      <td>NaN</td>\n",
       "      <td>0</td>\n",
       "      <td>0</td>\n",
       "      <td>0</td>\n",
       "      <td>0</td>\n",
       "      <td>NaN</td>\n",
       "      <td>...</td>\n",
       "      <td>0</td>\n",
       "      <td>0</td>\n",
       "      <td>0</td>\n",
       "      <td>NaN</td>\n",
       "      <td>NaN</td>\n",
       "      <td>0</td>\n",
       "      <td>NaN</td>\n",
       "      <td>NaN</td>\n",
       "      <td>1</td>\n",
       "      <td>0</td>\n",
       "    </tr>\n",
       "    <tr>\n",
       "      <th>S4</th>\n",
       "      <td>0</td>\n",
       "      <td>1</td>\n",
       "      <td>NaN</td>\n",
       "      <td>NaN</td>\n",
       "      <td>NaN</td>\n",
       "      <td>1</td>\n",
       "      <td>0</td>\n",
       "      <td>0</td>\n",
       "      <td>0</td>\n",
       "      <td>NaN</td>\n",
       "      <td>...</td>\n",
       "      <td>0</td>\n",
       "      <td>0</td>\n",
       "      <td>0</td>\n",
       "      <td>NaN</td>\n",
       "      <td>NaN</td>\n",
       "      <td>0</td>\n",
       "      <td>NaN</td>\n",
       "      <td>NaN</td>\n",
       "      <td>1</td>\n",
       "      <td>0</td>\n",
       "    </tr>\n",
       "    <tr>\n",
       "      <th>S0</th>\n",
       "      <td>0</td>\n",
       "      <td>1</td>\n",
       "      <td>NaN</td>\n",
       "      <td>NaN</td>\n",
       "      <td>NaN</td>\n",
       "      <td>0</td>\n",
       "      <td>0</td>\n",
       "      <td>0</td>\n",
       "      <td>0</td>\n",
       "      <td>NaN</td>\n",
       "      <td>...</td>\n",
       "      <td>0</td>\n",
       "      <td>0</td>\n",
       "      <td>0</td>\n",
       "      <td>NaN</td>\n",
       "      <td>NaN</td>\n",
       "      <td>0</td>\n",
       "      <td>NaN</td>\n",
       "      <td>NaN</td>\n",
       "      <td>1</td>\n",
       "      <td>0</td>\n",
       "    </tr>\n",
       "    <tr>\n",
       "      <th>S2</th>\n",
       "      <td>0</td>\n",
       "      <td>0</td>\n",
       "      <td>NaN</td>\n",
       "      <td>NaN</td>\n",
       "      <td>NaN</td>\n",
       "      <td>1</td>\n",
       "      <td>1</td>\n",
       "      <td>0</td>\n",
       "      <td>0</td>\n",
       "      <td>NaN</td>\n",
       "      <td>...</td>\n",
       "      <td>0</td>\n",
       "      <td>0</td>\n",
       "      <td>0</td>\n",
       "      <td>NaN</td>\n",
       "      <td>NaN</td>\n",
       "      <td>0</td>\n",
       "      <td>NaN</td>\n",
       "      <td>NaN</td>\n",
       "      <td>1</td>\n",
       "      <td>0</td>\n",
       "    </tr>\n",
       "    <tr>\n",
       "      <th>S5</th>\n",
       "      <td>0</td>\n",
       "      <td>0</td>\n",
       "      <td>NaN</td>\n",
       "      <td>NaN</td>\n",
       "      <td>NaN</td>\n",
       "      <td>0</td>\n",
       "      <td>0</td>\n",
       "      <td>1</td>\n",
       "      <td>0</td>\n",
       "      <td>NaN</td>\n",
       "      <td>...</td>\n",
       "      <td>0</td>\n",
       "      <td>0</td>\n",
       "      <td>0</td>\n",
       "      <td>NaN</td>\n",
       "      <td>NaN</td>\n",
       "      <td>0</td>\n",
       "      <td>NaN</td>\n",
       "      <td>NaN</td>\n",
       "      <td>1</td>\n",
       "      <td>0</td>\n",
       "    </tr>\n",
       "    <tr>\n",
       "      <th>S3</th>\n",
       "      <td>0</td>\n",
       "      <td>0</td>\n",
       "      <td>NaN</td>\n",
       "      <td>NaN</td>\n",
       "      <td>NaN</td>\n",
       "      <td>0</td>\n",
       "      <td>0</td>\n",
       "      <td>0</td>\n",
       "      <td>1</td>\n",
       "      <td>NaN</td>\n",
       "      <td>...</td>\n",
       "      <td>0</td>\n",
       "      <td>0</td>\n",
       "      <td>0</td>\n",
       "      <td>NaN</td>\n",
       "      <td>NaN</td>\n",
       "      <td>0</td>\n",
       "      <td>NaN</td>\n",
       "      <td>NaN</td>\n",
       "      <td>1</td>\n",
       "      <td>1</td>\n",
       "    </tr>\n",
       "  </tbody>\n",
       "</table>\n",
       "<p>6 rows × 4768 columns</p>\n",
       "</div>"
      ],
      "text/plain": [
       "    1110008L16Rik  1110059E24Rik  1200007C13Rik  1300017J02Rik  1500005C15Rik  \\\n",
       "S1              0              0            NaN            NaN            NaN   \n",
       "S4              0              1            NaN            NaN            NaN   \n",
       "S0              0              1            NaN            NaN            NaN   \n",
       "S2              0              0            NaN            NaN            NaN   \n",
       "S5              0              0            NaN            NaN            NaN   \n",
       "S3              0              0            NaN            NaN            NaN   \n",
       "\n",
       "    1600014C10Rik  1600020E01Rik  1700006J14Rik  1700017B05Rik  1700024P16Rik  \\\n",
       "S1              0              0              0              0            NaN   \n",
       "S4              1              0              0              0            NaN   \n",
       "S0              0              0              0              0            NaN   \n",
       "S2              1              1              0              0            NaN   \n",
       "S5              0              0              1              0            NaN   \n",
       "S3              0              0              0              1            NaN   \n",
       "\n",
       "    ...  Zscan21  Zscan22  Zscan29  Zswim3  Zswim4  Zufsp  Zxdb  Zxdc  Zyx  \\\n",
       "S1  ...        0        0        0     NaN     NaN      0   NaN   NaN    1   \n",
       "S4  ...        0        0        0     NaN     NaN      0   NaN   NaN    1   \n",
       "S0  ...        0        0        0     NaN     NaN      0   NaN   NaN    1   \n",
       "S2  ...        0        0        0     NaN     NaN      0   NaN   NaN    1   \n",
       "S5  ...        0        0        0     NaN     NaN      0   NaN   NaN    1   \n",
       "S3  ...        0        0        0     NaN     NaN      0   NaN   NaN    1   \n",
       "\n",
       "    Zzz3  \n",
       "S1     0  \n",
       "S4     0  \n",
       "S0     0  \n",
       "S2     0  \n",
       "S5     0  \n",
       "S3     1  \n",
       "\n",
       "[6 rows x 4768 columns]"
      ]
     },
     "execution_count": 3,
     "metadata": {},
     "output_type": "execute_result"
    }
   ],
   "source": [
    "df_nesto"
   ]
  },
  {
   "cell_type": "code",
   "execution_count": 4,
   "metadata": {},
   "outputs": [],
   "source": [
    "observations_from_singlecell_nestorowa = df_nesto.to_dict(orient=\"index\")"
   ]
  },
  {
   "cell_type": "code",
   "execution_count": null,
   "metadata": {},
   "outputs": [],
   "source": [
    "observations_from_singlecell_nestorowa"
   ]
  },
  {
   "cell_type": "markdown",
   "metadata": {},
   "source": [
    "### 2. Standardize the observations' gene names. <a class=\"anchor\" id=\"standardobs\"></a>\n",
    "\n",
    "We use the file \"data/Mus_musculus.gene_info.202103.tsv\" downloaded on 2021-03 from NCBI (mouse gene info)."
   ]
  },
  {
   "cell_type": "code",
   "execution_count": 5,
   "metadata": {},
   "outputs": [],
   "source": [
    "import gene_name_standardization as gns"
   ]
  },
  {
   "cell_type": "code",
   "execution_count": 6,
   "metadata": {},
   "outputs": [],
   "source": [
    "standardized_observations = gns.observations_standardization(observations_from_singlecell_nestorowa, \"data/Mus_musculus.gene_info.202103.tsv\")"
   ]
  },
  {
   "cell_type": "code",
   "execution_count": 7,
   "metadata": {},
   "outputs": [
    {
     "data": {
      "text/html": [
       "<div>\n",
       "<style scoped>\n",
       "    .dataframe tbody tr th:only-of-type {\n",
       "        vertical-align: middle;\n",
       "    }\n",
       "\n",
       "    .dataframe tbody tr th {\n",
       "        vertical-align: top;\n",
       "    }\n",
       "\n",
       "    .dataframe thead th {\n",
       "        text-align: right;\n",
       "    }\n",
       "</style>\n",
       "<table border=\"1\" class=\"dataframe\">\n",
       "  <thead>\n",
       "    <tr style=\"text-align: right;\">\n",
       "      <th></th>\n",
       "      <th>PRORP</th>\n",
       "      <th>1110059E24RIK</th>\n",
       "      <th>1200007C13RIK</th>\n",
       "      <th>1300017J02RIK</th>\n",
       "      <th>1500005C15RIK</th>\n",
       "      <th>1600014C10RIK</th>\n",
       "      <th>1600020E01RIK</th>\n",
       "      <th>1700006J14RIK</th>\n",
       "      <th>1700017B05RIK</th>\n",
       "      <th>FYB2</th>\n",
       "      <th>...</th>\n",
       "      <th>ZSCAN21</th>\n",
       "      <th>ZSCAN22</th>\n",
       "      <th>ZSCAN29</th>\n",
       "      <th>ZSWIM3</th>\n",
       "      <th>ZSWIM4</th>\n",
       "      <th>ZUP1</th>\n",
       "      <th>ZXDB</th>\n",
       "      <th>ZXDC</th>\n",
       "      <th>ZYX</th>\n",
       "      <th>ZZZ3</th>\n",
       "    </tr>\n",
       "  </thead>\n",
       "  <tbody>\n",
       "    <tr>\n",
       "      <th>S1</th>\n",
       "      <td>0</td>\n",
       "      <td>0</td>\n",
       "      <td></td>\n",
       "      <td></td>\n",
       "      <td></td>\n",
       "      <td>0</td>\n",
       "      <td>0</td>\n",
       "      <td>0</td>\n",
       "      <td>0</td>\n",
       "      <td></td>\n",
       "      <td>...</td>\n",
       "      <td>0</td>\n",
       "      <td>0</td>\n",
       "      <td>0</td>\n",
       "      <td></td>\n",
       "      <td></td>\n",
       "      <td>0</td>\n",
       "      <td></td>\n",
       "      <td></td>\n",
       "      <td>1</td>\n",
       "      <td>0</td>\n",
       "    </tr>\n",
       "    <tr>\n",
       "      <th>S4</th>\n",
       "      <td>0</td>\n",
       "      <td>1</td>\n",
       "      <td></td>\n",
       "      <td></td>\n",
       "      <td></td>\n",
       "      <td>1</td>\n",
       "      <td>0</td>\n",
       "      <td>0</td>\n",
       "      <td>0</td>\n",
       "      <td></td>\n",
       "      <td>...</td>\n",
       "      <td>0</td>\n",
       "      <td>0</td>\n",
       "      <td>0</td>\n",
       "      <td></td>\n",
       "      <td></td>\n",
       "      <td>0</td>\n",
       "      <td></td>\n",
       "      <td></td>\n",
       "      <td>1</td>\n",
       "      <td>0</td>\n",
       "    </tr>\n",
       "    <tr>\n",
       "      <th>S0</th>\n",
       "      <td>0</td>\n",
       "      <td>1</td>\n",
       "      <td></td>\n",
       "      <td></td>\n",
       "      <td></td>\n",
       "      <td>0</td>\n",
       "      <td>0</td>\n",
       "      <td>0</td>\n",
       "      <td>0</td>\n",
       "      <td></td>\n",
       "      <td>...</td>\n",
       "      <td>0</td>\n",
       "      <td>0</td>\n",
       "      <td>0</td>\n",
       "      <td></td>\n",
       "      <td></td>\n",
       "      <td>0</td>\n",
       "      <td></td>\n",
       "      <td></td>\n",
       "      <td>1</td>\n",
       "      <td>0</td>\n",
       "    </tr>\n",
       "    <tr>\n",
       "      <th>S2</th>\n",
       "      <td>0</td>\n",
       "      <td>0</td>\n",
       "      <td></td>\n",
       "      <td></td>\n",
       "      <td></td>\n",
       "      <td>1</td>\n",
       "      <td>1</td>\n",
       "      <td>0</td>\n",
       "      <td>0</td>\n",
       "      <td></td>\n",
       "      <td>...</td>\n",
       "      <td>0</td>\n",
       "      <td>0</td>\n",
       "      <td>0</td>\n",
       "      <td></td>\n",
       "      <td></td>\n",
       "      <td>0</td>\n",
       "      <td></td>\n",
       "      <td></td>\n",
       "      <td>1</td>\n",
       "      <td>0</td>\n",
       "    </tr>\n",
       "    <tr>\n",
       "      <th>S5</th>\n",
       "      <td>0</td>\n",
       "      <td>0</td>\n",
       "      <td></td>\n",
       "      <td></td>\n",
       "      <td></td>\n",
       "      <td>0</td>\n",
       "      <td>0</td>\n",
       "      <td>1</td>\n",
       "      <td>0</td>\n",
       "      <td></td>\n",
       "      <td>...</td>\n",
       "      <td>0</td>\n",
       "      <td>0</td>\n",
       "      <td>0</td>\n",
       "      <td></td>\n",
       "      <td></td>\n",
       "      <td>0</td>\n",
       "      <td></td>\n",
       "      <td></td>\n",
       "      <td>1</td>\n",
       "      <td>0</td>\n",
       "    </tr>\n",
       "    <tr>\n",
       "      <th>S3</th>\n",
       "      <td>0</td>\n",
       "      <td>0</td>\n",
       "      <td></td>\n",
       "      <td></td>\n",
       "      <td></td>\n",
       "      <td>0</td>\n",
       "      <td>0</td>\n",
       "      <td>0</td>\n",
       "      <td>1</td>\n",
       "      <td></td>\n",
       "      <td>...</td>\n",
       "      <td>0</td>\n",
       "      <td>0</td>\n",
       "      <td>0</td>\n",
       "      <td></td>\n",
       "      <td></td>\n",
       "      <td>0</td>\n",
       "      <td></td>\n",
       "      <td></td>\n",
       "      <td>1</td>\n",
       "      <td>1</td>\n",
       "    </tr>\n",
       "  </tbody>\n",
       "</table>\n",
       "<p>6 rows × 4768 columns</p>\n",
       "</div>"
      ],
      "text/plain": [
       "    PRORP  1110059E24RIK 1200007C13RIK 1300017J02RIK 1500005C15RIK  \\\n",
       "S1      0              0                                             \n",
       "S4      0              1                                             \n",
       "S0      0              1                                             \n",
       "S2      0              0                                             \n",
       "S5      0              0                                             \n",
       "S3      0              0                                             \n",
       "\n",
       "    1600014C10RIK  1600020E01RIK  1700006J14RIK  1700017B05RIK FYB2  ...  \\\n",
       "S1              0              0              0              0       ...   \n",
       "S4              1              0              0              0       ...   \n",
       "S0              0              0              0              0       ...   \n",
       "S2              1              1              0              0       ...   \n",
       "S5              0              0              1              0       ...   \n",
       "S3              0              0              0              1       ...   \n",
       "\n",
       "   ZSCAN21 ZSCAN22  ZSCAN29 ZSWIM3 ZSWIM4 ZUP1 ZXDB ZXDC ZYX  ZZZ3  \n",
       "S1       0       0        0                  0             1     0  \n",
       "S4       0       0        0                  0             1     0  \n",
       "S0       0       0        0                  0             1     0  \n",
       "S2       0       0        0                  0             1     0  \n",
       "S5       0       0        0                  0             1     0  \n",
       "S3       0       0        0                  0             1     1  \n",
       "\n",
       "[6 rows x 4768 columns]"
      ]
     },
     "execution_count": 7,
     "metadata": {},
     "output_type": "execute_result"
    }
   ],
   "source": [
    "# Visualisation of the matrix with standardized gene names:\n",
    "df_standardized = pd.DataFrame.from_dict(standardized_observations, orient=\"index\").fillna('')\n",
    "df_standardized"
   ]
  },
  {
   "cell_type": "code",
   "execution_count": 8,
   "metadata": {},
   "outputs": [],
   "source": [
    "# Genes being in this single-cell dataset:\n",
    "standardized_genenames_in_singlecell = set(df_standardized)"
   ]
  },
  {
   "cell_type": "code",
   "execution_count": 9,
   "metadata": {},
   "outputs": [
    {
     "data": {
      "text/plain": [
       "4768"
      ]
     },
     "execution_count": 9,
     "metadata": {},
     "output_type": "execute_result"
    }
   ],
   "source": [
    "len(standardized_genenames_in_singlecell)"
   ]
  },
  {
   "cell_type": "markdown",
   "metadata": {},
   "source": [
    "### 3. Get interaction graph from DoRothEA database. <a class=\"anchor\" id=\"dorothea\"></a>\n",
    "\n",
    "Interactions of confidence A, B and C were extracted from DoRothEA on 2021-07-07. \n",
    "The extraction from DoRothEA and the standardization of the gene names were processed as described in the [tutorial](https://github.com/StephanieChevalier/notebooks_for_bonesis/blob/main/tutorials/Tutorial_for_interaction_graph_preprocessing.ipynb). \n",
    "We only kept edges from transcription factors to transcription factors or to genes with expression values in the Nestorowa single-cell dataset ([dorothea_ABC_20210707_TF.sif](https://github.com/StephanieChevalier/notebooks_for_bonesis/blob/main/applications/hematopoiesis/data/dorothea_ABC_20210707_TF.sif): 1001 nodes, 2777 edges)."
   ]
  },
  {
   "cell_type": "markdown",
   "metadata": {},
   "source": [
    "## Use of BoNesis for selection of components <a class=\"anchor\" id=\"bonesis\"></a>"
   ]
  },
  {
   "cell_type": "code",
   "execution_count": 10,
   "metadata": {},
   "outputs": [],
   "source": [
    "import bonesis"
   ]
  },
  {
   "cell_type": "code",
   "execution_count": 11,
   "metadata": {},
   "outputs": [],
   "source": [
    "standardized_dorothea = bonesis.InfluenceGraph.from_sif(\"data/dorothea_ABC_20210707_TF.sif\", maxclause=8, allow_skipping_nodes=True, canonic=False)"
   ]
  },
  {
   "cell_type": "code",
   "execution_count": 12,
   "metadata": {},
   "outputs": [],
   "source": [
    "bo = bonesis.BoNesis(standardized_dorothea, standardized_observations)"
   ]
  },
  {
   "cell_type": "code",
   "execution_count": 13,
   "metadata": {},
   "outputs": [
    {
     "name": "stdout",
     "output_type": "stream",
     "text": [
      "domain: 1001 nodes, 2790 edges\n"
     ]
    }
   ],
   "source": [
    "print(f\"domain: {len(standardized_dorothea.nodes())} nodes, {len(standardized_dorothea.edges())} edges\")"
   ]
  },
  {
   "cell_type": "markdown",
   "metadata": {},
   "source": [
    "2790 edges vs 2777 into the SIF file: the difference comes from the add of a positive loop on each node without input (indegree 0)."
   ]
  },
  {
   "cell_type": "markdown",
   "metadata": {},
   "source": [
    "### Dynamics\n",
    "<img src=\"img/trajectoire.png\" alt=\"nestorowa stream trajectory\" style=\"width:40%;\"/>\n",
    "\n",
    "#### fixpoints"
   ]
  },
  {
   "cell_type": "code",
   "execution_count": 14,
   "metadata": {},
   "outputs": [],
   "source": [
    "s2 = bo.fixed(~bo.obs(\"S2\"))\n",
    "s4 = bo.fixed(~bo.obs(\"S4\"))\n",
    "s5 = bo.fixed(~bo.obs(\"S5\"))\n",
    "s2 != s4\n",
    "s5 != s4\n",
    "s2 != s5;"
   ]
  },
  {
   "cell_type": "markdown",
   "metadata": {},
   "source": [
    "#### positive reachability"
   ]
  },
  {
   "cell_type": "code",
   "execution_count": 15,
   "metadata": {},
   "outputs": [],
   "source": [
    "~bo.obs('S1') >= ~bo.obs('S0') >= s2\n",
    "~bo.obs('S0') >= ~bo.obs('S3') >= s4\n",
    "~bo.obs('S3') >= s5;"
   ]
  },
  {
   "cell_type": "markdown",
   "metadata": {},
   "source": [
    "#### negative reachability"
   ]
  },
  {
   "cell_type": "code",
   "execution_count": 16,
   "metadata": {},
   "outputs": [],
   "source": [
    "~bo.obs(\"S3\") / s2;"
   ]
  },
  {
   "cell_type": "markdown",
   "metadata": {},
   "source": [
    "### Optimization & view"
   ]
  },
  {
   "cell_type": "code",
   "execution_count": 17,
   "metadata": {},
   "outputs": [
    {
     "data": {
      "text/plain": [
       "<bonesis.language.ManagedIface.__init__.<locals>.managed.<locals>.Managed at 0x7fa23974eac0>"
      ]
     },
     "execution_count": 17,
     "metadata": {},
     "output_type": "execute_result"
    }
   ],
   "source": [
    "bo.maximize_nodes()\n",
    "bo.maximize_strong_constants()"
   ]
  },
  {
   "cell_type": "code",
   "execution_count": 18,
   "metadata": {},
   "outputs": [],
   "source": [
    "view = bonesis.NonStrongConstantNodesView(bo, mode=\"opt\")"
   ]
  },
  {
   "cell_type": "code",
   "execution_count": null,
   "metadata": {},
   "outputs": [],
   "source": [
    "view.standalone(output_filename=f\"maxnodes_maxstrongconstant.sh\")"
   ]
  }
 ],
 "metadata": {
  "kernelspec": {
   "display_name": "Python 3",
   "language": "python",
   "name": "python3"
  },
  "language_info": {
   "codemirror_mode": {
    "name": "ipython",
    "version": 3
   },
   "file_extension": ".py",
   "mimetype": "text/x-python",
   "name": "python",
   "nbconvert_exporter": "python",
   "pygments_lexer": "ipython3",
   "version": "3.8.10"
  }
 },
 "nbformat": 4,
 "nbformat_minor": 4
}
